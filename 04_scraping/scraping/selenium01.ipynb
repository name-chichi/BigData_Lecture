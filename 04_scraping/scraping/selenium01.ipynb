{
 "cells": [
  {
   "cell_type": "markdown",
   "metadata": {},
   "source": [
    "# Selenium을 통한 Webscraping"
   ]
  },
  {
   "cell_type": "markdown",
   "metadata": {},
   "source": [
    "### Basics"
   ]
  },
  {
   "cell_type": "code",
   "execution_count": 7,
   "metadata": {},
   "outputs": [],
   "source": [
    "from selenium import webdriver"
   ]
  },
  {
   "cell_type": "code",
   "execution_count": 11,
   "metadata": {},
   "outputs": [],
   "source": [
    "# auto-reload 설정\n",
    "%load_ext autoreload\n",
    "%autoreload 2"
   ]
  },
  {
   "cell_type": "code",
   "execution_count": 18,
   "metadata": {
    "collapsed": true
   },
   "outputs": [
    {
     "name": "stdout",
     "output_type": "stream",
     "text": [
      " Volume in drive C is Windows\n",
      " Volume Serial Number is 3838-B871\n",
      "\n",
      " Directory of C:\\Users\\sori-\\Desktop\\DS_webscraping\n",
      "\n",
      "06/25/2021  09:46 AM        11,107,328 chromedriver.exe\n",
      "               1 File(s)     11,107,328 bytes\n",
      "               0 Dir(s)  152,574,861,312 bytes free\n"
     ]
    }
   ],
   "source": [
    "# chromedriver 경로 확인\n",
    "!dir .\\chromedriver.exe"
   ]
  },
  {
   "cell_type": "code",
   "execution_count": 31,
   "metadata": {},
   "outputs": [
    {
     "data": {
      "text/plain": [
       "<selenium.webdriver.chrome.webdriver.WebDriver (session=\"422391cf83073a4468ae7df2e8c6ceb7\")>"
      ]
     },
     "execution_count": 31,
     "metadata": {},
     "output_type": "execute_result"
    }
   ],
   "source": [
    "# webdriver가 직접 request를 보내는 역할을 한다\n",
    "driver = webdriver.Chrome('./chromedriver.exe')        # 현재 디렉토리 밑에 있으면 경로 지정하지 않아도 알아서 찾음\n",
    "driver"
   ]
  },
  {
   "cell_type": "code",
   "execution_count": 32,
   "metadata": {},
   "outputs": [
    {
     "data": {
      "text/plain": [
       "NoneType"
      ]
     },
     "execution_count": 32,
     "metadata": {},
     "output_type": "execute_result"
    }
   ],
   "source": [
    "# 웹사이트 불러오기\n",
    "d = driver.get('https://www.naver.com')                # 위 chromedriver 창이 열린 뒤에만 실행 가능함\n",
    "type(d)"
   ]
  }
 ],
 "metadata": {
  "kernelspec": {
   "display_name": "Python 3.8.3 32-bit",
   "language": "python",
   "name": "python38332bitabebdcd8e2a1488c90932336e3af1b49"
  },
  "language_info": {
   "codemirror_mode": {
    "name": "ipython",
    "version": 3
   },
   "file_extension": ".py",
   "mimetype": "text/x-python",
   "name": "python",
   "nbconvert_exporter": "python",
   "pygments_lexer": "ipython3",
   "version": "3.8.3"
  }
 },
 "nbformat": 4,
 "nbformat_minor": 4
}
