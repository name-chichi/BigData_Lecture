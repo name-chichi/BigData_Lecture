{
 "cells": [
  {
   "cell_type": "markdown",
   "metadata": {},
   "source": [
    "# 로그인 자동화\n",
    "## 1. Github"
   ]
  },
  {
   "cell_type": "code",
   "execution_count": 1,
   "metadata": {},
   "outputs": [],
   "source": [
    "from selenium import webdriver\n",
    "from bs4 import BeautifulSoup as BS\n",
    "import time"
   ]
  },
  {
   "cell_type": "code",
   "execution_count": 2,
   "metadata": {},
   "outputs": [],
   "source": [
    "browser = webdriver.Chrome()\n",
    "browser.maximize_window()                   # 브라우저 최대화\n",
    "browser.get('https://github.com/login')"
   ]
  },
  {
   "cell_type": "code",
   "execution_count": 4,
   "metadata": {},
   "outputs": [],
   "source": [
    "# Find id section\n",
    "time.sleep(3)            \n",
    "browser.find_element_by_css_selector('#login_field').send_keys('name-chichi')       # 해당 영역에 글자를 입력"
   ]
  },
  {
   "cell_type": "code",
   "execution_count": 5,
   "metadata": {},
   "outputs": [],
   "source": [
    "# Find pwd section\n",
    "time.sleep(3)\n",
    "browser.find_element_by_css_selector('#password').send_keys('********')"
   ]
  },
  {
   "cell_type": "code",
   "execution_count": 6,
   "metadata": {},
   "outputs": [],
   "source": [
    "# Click Sign-in button\n",
    "browser.find_element_by_css_selector('input[type=\"submit\"]').click()"
   ]
  },
  {
   "cell_type": "code",
   "execution_count": 7,
   "metadata": {},
   "outputs": [],
   "source": [
    "# Quit browser\n",
    "browser.quit()"
   ]
  },
  {
   "cell_type": "markdown",
   "metadata": {},
   "source": [
    "---\n",
    "## 2. Instagram\n",
    "Element 찾는 비슷한 다른 함수를 사용하기 위해 모듈 import"
   ]
  },
  {
   "cell_type": "code",
   "execution_count": 8,
   "metadata": {},
   "outputs": [],
   "source": [
    "from selenium.webdriver.common.by import By "
   ]
  },
  {
   "cell_type": "code",
   "execution_count": 9,
   "metadata": {},
   "outputs": [],
   "source": [
    "# Go to Instagram sign-in page\n",
    "browser = webdriver.Chrome()\n",
    "browser.maximize_window()\n",
    "browser.get('https://www.instagram.com/')"
   ]
  },
  {
   "cell_type": "code",
   "execution_count": 11,
   "metadata": {},
   "outputs": [],
   "source": [
    "# find_element 함수 - Find id\n",
    "time.sleep(5)\n",
    "browser.find_element(By.CSS_SELECTOR, 'input[aria-label=\"전화번호, 사용자 이름 또는 이메일\"]').send_keys('*******')"
   ]
  },
  {
   "cell_type": "code",
   "execution_count": 12,
   "metadata": {},
   "outputs": [],
   "source": [
    "# Find pwd\n",
    "browser.find_element(By.CSS_SELECTOR, 'input[type=\"password\"]').send_keys('******')"
   ]
  },
  {
   "cell_type": "code",
   "execution_count": 13,
   "metadata": {},
   "outputs": [],
   "source": [
    "# Click button\n",
    "browser.find_element(By.CSS_SELECTOR, 'button[type=\"submit\"]').click()"
   ]
  },
  {
   "cell_type": "code",
   "execution_count": 14,
   "metadata": {},
   "outputs": [],
   "source": [
    "# Save info -> Click 'Not Now' \n",
    "browser.find_element(By.CSS_SELECTOR, '.sqdOP.yWX7d').click()"
   ]
  },
  {
   "cell_type": "code",
   "execution_count": 15,
   "metadata": {},
   "outputs": [
    {
     "ename": "NoSuchElementException",
     "evalue": "Message: no such element: Unable to locate element: {\"method\":\"css selector\",\"selector\":\".aOOlW.HoLwm\"}\n  (Session info: chrome=91.0.4472.114)\n",
     "output_type": "error",
     "traceback": [
      "\u001b[1;31m---------------------------------------------------------------------------\u001b[0m",
      "\u001b[1;31mNoSuchElementException\u001b[0m                    Traceback (most recent call last)",
      "\u001b[1;32m<ipython-input-15-503653f9ef25>\u001b[0m in \u001b[0;36m<module>\u001b[1;34m\u001b[0m\n\u001b[0;32m      1\u001b[0m \u001b[1;31m# Notification -> Click 'Not Now'\u001b[0m\u001b[1;33m\u001b[0m\u001b[1;33m\u001b[0m\u001b[1;33m\u001b[0m\u001b[0m\n\u001b[1;32m----> 2\u001b[1;33m \u001b[0mbrowser\u001b[0m\u001b[1;33m.\u001b[0m\u001b[0mfind_element\u001b[0m\u001b[1;33m(\u001b[0m\u001b[0mBy\u001b[0m\u001b[1;33m.\u001b[0m\u001b[0mCSS_SELECTOR\u001b[0m\u001b[1;33m,\u001b[0m \u001b[1;34m'.aOOlW.HoLwm'\u001b[0m\u001b[1;33m)\u001b[0m\u001b[1;33m.\u001b[0m\u001b[0mclick\u001b[0m\u001b[1;33m(\u001b[0m\u001b[1;33m)\u001b[0m\u001b[1;33m\u001b[0m\u001b[1;33m\u001b[0m\u001b[0m\n\u001b[0m",
      "\u001b[1;32m~\\anaconda3\\lib\\site-packages\\selenium\\webdriver\\remote\\webdriver.py\u001b[0m in \u001b[0;36mfind_element\u001b[1;34m(self, by, value)\u001b[0m\n\u001b[0;32m    974\u001b[0m                 \u001b[0mby\u001b[0m \u001b[1;33m=\u001b[0m \u001b[0mBy\u001b[0m\u001b[1;33m.\u001b[0m\u001b[0mCSS_SELECTOR\u001b[0m\u001b[1;33m\u001b[0m\u001b[1;33m\u001b[0m\u001b[0m\n\u001b[0;32m    975\u001b[0m                 \u001b[0mvalue\u001b[0m \u001b[1;33m=\u001b[0m \u001b[1;34m'[name=\"%s\"]'\u001b[0m \u001b[1;33m%\u001b[0m \u001b[0mvalue\u001b[0m\u001b[1;33m\u001b[0m\u001b[1;33m\u001b[0m\u001b[0m\n\u001b[1;32m--> 976\u001b[1;33m         return self.execute(Command.FIND_ELEMENT, {\n\u001b[0m\u001b[0;32m    977\u001b[0m             \u001b[1;34m'using'\u001b[0m\u001b[1;33m:\u001b[0m \u001b[0mby\u001b[0m\u001b[1;33m,\u001b[0m\u001b[1;33m\u001b[0m\u001b[1;33m\u001b[0m\u001b[0m\n\u001b[0;32m    978\u001b[0m             'value': value})['value']\n",
      "\u001b[1;32m~\\anaconda3\\lib\\site-packages\\selenium\\webdriver\\remote\\webdriver.py\u001b[0m in \u001b[0;36mexecute\u001b[1;34m(self, driver_command, params)\u001b[0m\n\u001b[0;32m    319\u001b[0m         \u001b[0mresponse\u001b[0m \u001b[1;33m=\u001b[0m \u001b[0mself\u001b[0m\u001b[1;33m.\u001b[0m\u001b[0mcommand_executor\u001b[0m\u001b[1;33m.\u001b[0m\u001b[0mexecute\u001b[0m\u001b[1;33m(\u001b[0m\u001b[0mdriver_command\u001b[0m\u001b[1;33m,\u001b[0m \u001b[0mparams\u001b[0m\u001b[1;33m)\u001b[0m\u001b[1;33m\u001b[0m\u001b[1;33m\u001b[0m\u001b[0m\n\u001b[0;32m    320\u001b[0m         \u001b[1;32mif\u001b[0m \u001b[0mresponse\u001b[0m\u001b[1;33m:\u001b[0m\u001b[1;33m\u001b[0m\u001b[1;33m\u001b[0m\u001b[0m\n\u001b[1;32m--> 321\u001b[1;33m             \u001b[0mself\u001b[0m\u001b[1;33m.\u001b[0m\u001b[0merror_handler\u001b[0m\u001b[1;33m.\u001b[0m\u001b[0mcheck_response\u001b[0m\u001b[1;33m(\u001b[0m\u001b[0mresponse\u001b[0m\u001b[1;33m)\u001b[0m\u001b[1;33m\u001b[0m\u001b[1;33m\u001b[0m\u001b[0m\n\u001b[0m\u001b[0;32m    322\u001b[0m             response['value'] = self._unwrap_value(\n\u001b[0;32m    323\u001b[0m                 response.get('value', None))\n",
      "\u001b[1;32m~\\anaconda3\\lib\\site-packages\\selenium\\webdriver\\remote\\errorhandler.py\u001b[0m in \u001b[0;36mcheck_response\u001b[1;34m(self, response)\u001b[0m\n\u001b[0;32m    240\u001b[0m                 \u001b[0malert_text\u001b[0m \u001b[1;33m=\u001b[0m \u001b[0mvalue\u001b[0m\u001b[1;33m[\u001b[0m\u001b[1;34m'alert'\u001b[0m\u001b[1;33m]\u001b[0m\u001b[1;33m.\u001b[0m\u001b[0mget\u001b[0m\u001b[1;33m(\u001b[0m\u001b[1;34m'text'\u001b[0m\u001b[1;33m)\u001b[0m\u001b[1;33m\u001b[0m\u001b[1;33m\u001b[0m\u001b[0m\n\u001b[0;32m    241\u001b[0m             \u001b[1;32mraise\u001b[0m \u001b[0mexception_class\u001b[0m\u001b[1;33m(\u001b[0m\u001b[0mmessage\u001b[0m\u001b[1;33m,\u001b[0m \u001b[0mscreen\u001b[0m\u001b[1;33m,\u001b[0m \u001b[0mstacktrace\u001b[0m\u001b[1;33m,\u001b[0m \u001b[0malert_text\u001b[0m\u001b[1;33m)\u001b[0m\u001b[1;33m\u001b[0m\u001b[1;33m\u001b[0m\u001b[0m\n\u001b[1;32m--> 242\u001b[1;33m         \u001b[1;32mraise\u001b[0m \u001b[0mexception_class\u001b[0m\u001b[1;33m(\u001b[0m\u001b[0mmessage\u001b[0m\u001b[1;33m,\u001b[0m \u001b[0mscreen\u001b[0m\u001b[1;33m,\u001b[0m \u001b[0mstacktrace\u001b[0m\u001b[1;33m)\u001b[0m\u001b[1;33m\u001b[0m\u001b[1;33m\u001b[0m\u001b[0m\n\u001b[0m\u001b[0;32m    243\u001b[0m \u001b[1;33m\u001b[0m\u001b[0m\n\u001b[0;32m    244\u001b[0m     \u001b[1;32mdef\u001b[0m \u001b[0m_value_or_default\u001b[0m\u001b[1;33m(\u001b[0m\u001b[0mself\u001b[0m\u001b[1;33m,\u001b[0m \u001b[0mobj\u001b[0m\u001b[1;33m,\u001b[0m \u001b[0mkey\u001b[0m\u001b[1;33m,\u001b[0m \u001b[0mdefault\u001b[0m\u001b[1;33m)\u001b[0m\u001b[1;33m:\u001b[0m\u001b[1;33m\u001b[0m\u001b[1;33m\u001b[0m\u001b[0m\n",
      "\u001b[1;31mNoSuchElementException\u001b[0m: Message: no such element: Unable to locate element: {\"method\":\"css selector\",\"selector\":\".aOOlW.HoLwm\"}\n  (Session info: chrome=91.0.4472.114)\n"
     ]
    }
   ],
   "source": [
    "# Notification -> Click 'Not Now'\n",
    "browser.find_element(By.CSS_SELECTOR, '.aOOlW.HoLwm').click()"
   ]
  },
  {
   "cell_type": "markdown",
   "metadata": {},
   "source": [
    "### Search"
   ]
  },
  {
   "cell_type": "code",
   "execution_count": 16,
   "metadata": {},
   "outputs": [
    {
     "ename": "NoSuchElementException",
     "evalue": "Message: no such element: Unable to locate element: {\"method\":\"css selector\",\"selector\":\"input[placeholder=\"Search\"]\"}\n  (Session info: chrome=91.0.4472.114)\n",
     "output_type": "error",
     "traceback": [
      "\u001b[1;31m---------------------------------------------------------------------------\u001b[0m",
      "\u001b[1;31mNoSuchElementException\u001b[0m                    Traceback (most recent call last)",
      "\u001b[1;32m<ipython-input-16-5b5d8466dbcb>\u001b[0m in \u001b[0;36m<module>\u001b[1;34m\u001b[0m\n\u001b[0;32m      1\u001b[0m \u001b[1;31m# Search '#제주맛집' - by xpath\u001b[0m\u001b[1;33m\u001b[0m\u001b[1;33m\u001b[0m\u001b[1;33m\u001b[0m\u001b[0m\n\u001b[1;32m----> 2\u001b[1;33m \u001b[0mbrowser\u001b[0m\u001b[1;33m.\u001b[0m\u001b[0mfind_element\u001b[0m\u001b[1;33m(\u001b[0m\u001b[0mBy\u001b[0m\u001b[1;33m.\u001b[0m\u001b[0mCSS_SELECTOR\u001b[0m\u001b[1;33m,\u001b[0m \u001b[1;34m'input[placeholder=\"Search\"]'\u001b[0m\u001b[1;33m)\u001b[0m\u001b[1;33m.\u001b[0m\u001b[0msend_keys\u001b[0m\u001b[1;33m(\u001b[0m\u001b[1;34m'#제주맛집'\u001b[0m\u001b[1;33m)\u001b[0m\u001b[1;33m\u001b[0m\u001b[1;33m\u001b[0m\u001b[0m\n\u001b[0m\u001b[0;32m      3\u001b[0m \u001b[0mbrowser\u001b[0m\u001b[1;33m.\u001b[0m\u001b[0mfind_element\u001b[0m\u001b[1;33m(\u001b[0m\u001b[0mBy\u001b[0m\u001b[1;33m.\u001b[0m\u001b[0mXPATH\u001b[0m\u001b[1;33m,\u001b[0m \u001b[1;34m'//*[@id=\"react-root\"]/section/nav/div[2]/div/div/div[2]/div[3]/div/div[2]/div/div[1]/a/div'\u001b[0m\u001b[1;33m)\u001b[0m\u001b[1;33m.\u001b[0m\u001b[0mclick\u001b[0m\u001b[1;33m(\u001b[0m\u001b[1;33m)\u001b[0m\u001b[1;33m\u001b[0m\u001b[1;33m\u001b[0m\u001b[0m\n",
      "\u001b[1;32m~\\anaconda3\\lib\\site-packages\\selenium\\webdriver\\remote\\webdriver.py\u001b[0m in \u001b[0;36mfind_element\u001b[1;34m(self, by, value)\u001b[0m\n\u001b[0;32m    974\u001b[0m                 \u001b[0mby\u001b[0m \u001b[1;33m=\u001b[0m \u001b[0mBy\u001b[0m\u001b[1;33m.\u001b[0m\u001b[0mCSS_SELECTOR\u001b[0m\u001b[1;33m\u001b[0m\u001b[1;33m\u001b[0m\u001b[0m\n\u001b[0;32m    975\u001b[0m                 \u001b[0mvalue\u001b[0m \u001b[1;33m=\u001b[0m \u001b[1;34m'[name=\"%s\"]'\u001b[0m \u001b[1;33m%\u001b[0m \u001b[0mvalue\u001b[0m\u001b[1;33m\u001b[0m\u001b[1;33m\u001b[0m\u001b[0m\n\u001b[1;32m--> 976\u001b[1;33m         return self.execute(Command.FIND_ELEMENT, {\n\u001b[0m\u001b[0;32m    977\u001b[0m             \u001b[1;34m'using'\u001b[0m\u001b[1;33m:\u001b[0m \u001b[0mby\u001b[0m\u001b[1;33m,\u001b[0m\u001b[1;33m\u001b[0m\u001b[1;33m\u001b[0m\u001b[0m\n\u001b[0;32m    978\u001b[0m             'value': value})['value']\n",
      "\u001b[1;32m~\\anaconda3\\lib\\site-packages\\selenium\\webdriver\\remote\\webdriver.py\u001b[0m in \u001b[0;36mexecute\u001b[1;34m(self, driver_command, params)\u001b[0m\n\u001b[0;32m    319\u001b[0m         \u001b[0mresponse\u001b[0m \u001b[1;33m=\u001b[0m \u001b[0mself\u001b[0m\u001b[1;33m.\u001b[0m\u001b[0mcommand_executor\u001b[0m\u001b[1;33m.\u001b[0m\u001b[0mexecute\u001b[0m\u001b[1;33m(\u001b[0m\u001b[0mdriver_command\u001b[0m\u001b[1;33m,\u001b[0m \u001b[0mparams\u001b[0m\u001b[1;33m)\u001b[0m\u001b[1;33m\u001b[0m\u001b[1;33m\u001b[0m\u001b[0m\n\u001b[0;32m    320\u001b[0m         \u001b[1;32mif\u001b[0m \u001b[0mresponse\u001b[0m\u001b[1;33m:\u001b[0m\u001b[1;33m\u001b[0m\u001b[1;33m\u001b[0m\u001b[0m\n\u001b[1;32m--> 321\u001b[1;33m             \u001b[0mself\u001b[0m\u001b[1;33m.\u001b[0m\u001b[0merror_handler\u001b[0m\u001b[1;33m.\u001b[0m\u001b[0mcheck_response\u001b[0m\u001b[1;33m(\u001b[0m\u001b[0mresponse\u001b[0m\u001b[1;33m)\u001b[0m\u001b[1;33m\u001b[0m\u001b[1;33m\u001b[0m\u001b[0m\n\u001b[0m\u001b[0;32m    322\u001b[0m             response['value'] = self._unwrap_value(\n\u001b[0;32m    323\u001b[0m                 response.get('value', None))\n",
      "\u001b[1;32m~\\anaconda3\\lib\\site-packages\\selenium\\webdriver\\remote\\errorhandler.py\u001b[0m in \u001b[0;36mcheck_response\u001b[1;34m(self, response)\u001b[0m\n\u001b[0;32m    240\u001b[0m                 \u001b[0malert_text\u001b[0m \u001b[1;33m=\u001b[0m \u001b[0mvalue\u001b[0m\u001b[1;33m[\u001b[0m\u001b[1;34m'alert'\u001b[0m\u001b[1;33m]\u001b[0m\u001b[1;33m.\u001b[0m\u001b[0mget\u001b[0m\u001b[1;33m(\u001b[0m\u001b[1;34m'text'\u001b[0m\u001b[1;33m)\u001b[0m\u001b[1;33m\u001b[0m\u001b[1;33m\u001b[0m\u001b[0m\n\u001b[0;32m    241\u001b[0m             \u001b[1;32mraise\u001b[0m \u001b[0mexception_class\u001b[0m\u001b[1;33m(\u001b[0m\u001b[0mmessage\u001b[0m\u001b[1;33m,\u001b[0m \u001b[0mscreen\u001b[0m\u001b[1;33m,\u001b[0m \u001b[0mstacktrace\u001b[0m\u001b[1;33m,\u001b[0m \u001b[0malert_text\u001b[0m\u001b[1;33m)\u001b[0m\u001b[1;33m\u001b[0m\u001b[1;33m\u001b[0m\u001b[0m\n\u001b[1;32m--> 242\u001b[1;33m         \u001b[1;32mraise\u001b[0m \u001b[0mexception_class\u001b[0m\u001b[1;33m(\u001b[0m\u001b[0mmessage\u001b[0m\u001b[1;33m,\u001b[0m \u001b[0mscreen\u001b[0m\u001b[1;33m,\u001b[0m \u001b[0mstacktrace\u001b[0m\u001b[1;33m)\u001b[0m\u001b[1;33m\u001b[0m\u001b[1;33m\u001b[0m\u001b[0m\n\u001b[0m\u001b[0;32m    243\u001b[0m \u001b[1;33m\u001b[0m\u001b[0m\n\u001b[0;32m    244\u001b[0m     \u001b[1;32mdef\u001b[0m \u001b[0m_value_or_default\u001b[0m\u001b[1;33m(\u001b[0m\u001b[0mself\u001b[0m\u001b[1;33m,\u001b[0m \u001b[0mobj\u001b[0m\u001b[1;33m,\u001b[0m \u001b[0mkey\u001b[0m\u001b[1;33m,\u001b[0m \u001b[0mdefault\u001b[0m\u001b[1;33m)\u001b[0m\u001b[1;33m:\u001b[0m\u001b[1;33m\u001b[0m\u001b[1;33m\u001b[0m\u001b[0m\n",
      "\u001b[1;31mNoSuchElementException\u001b[0m: Message: no such element: Unable to locate element: {\"method\":\"css selector\",\"selector\":\"input[placeholder=\"Search\"]\"}\n  (Session info: chrome=91.0.4472.114)\n"
     ]
    }
   ],
   "source": [
    "# Search '#제주맛집' - by xpath\n",
    "browser.find_element(By.CSS_SELECTOR, 'input[placeholder=\"Search\"]').send_keys('#제주맛집')\n",
    "browser.find_element(By.XPATH, '//*[@id=\"react-root\"]/section/nav/div[2]/div/div/div[2]/div[3]/div/div[2]/div/div[1]/a/div').click()"
   ]
  },
  {
   "cell_type": "code",
   "execution_count": null,
   "metadata": {},
   "outputs": [],
   "source": [
    "browser.find_elements()"
   ]
  },
  {
   "cell_type": "markdown",
   "metadata": {},
   "source": [
    "### Web Scraping\n",
    "각각의 검색 결과 post를 클릭하여 게시글을 복사해와서 list에 모음 → 추후에 **sentimental analysis** 등에 사용 가능\n",
    "* 각 피드의 url은 페이지 url처럼 일정하지 않아서 다른 방식으로 접근해야 함\n",
    "* 페이지 번호가 따로 있지 않고, scroll down하면 계속 새로운 피드가 추가됨"
   ]
  },
  {
   "cell_type": "markdown",
   "metadata": {},
   "source": [
    "#### 1. find_elements"
   ]
  },
  {
   "cell_type": "code",
   "execution_count": 95,
   "metadata": {},
   "outputs": [
    {
     "data": {
      "text/plain": [
       "list"
      ]
     },
     "execution_count": 95,
     "metadata": {},
     "output_type": "execute_result"
    }
   ],
   "source": [
    "# find_element: WebElement, find_elements: list\n",
    "type(browser.find_element())                             # WebElement object\n",
    "type(browser.find_element_by_css_selector('a'))          # WebElement\n",
    "type(browser.find_elements_by_css_selector('a'))         # list\n",
    "type(browser.find_element_by_xpath('/html/body'))        # WebElement\n",
    "type(browser.find_elements_by_xpath('/html/body'))       # list"
   ]
  },
  {
   "cell_type": "code",
   "execution_count": 270,
   "metadata": {
    "collapsed": true
   },
   "outputs": [
    {
     "data": {
      "text/plain": [
       "['#순덕이네해산물장터 제주 현지인 맛집 추천 예전에는 약간 숨겨진 맛집이었는데 요즘은 많이들 가시는 거 같아요 돌문어볶음과 돌문어톳죽이 맛있는 곳입니다 문어볶음에는 소면도 같이 나와서 비벼 먹으면 별미에요 그리고 마지막에는 양념에 공기밥 비벼먹어야 완성이에요 불맛 낭낭하게 나요 탄수화물 사~랑 하지만 여기 원픽은 돌문어톳죽 제주가면 다들 전복죽만 드시는데 톳죽 한번 드셔보세요 감칠맛 식감 다 장난아니에요 고소하고 부드러운데 바다향이 솔솔나요 . ▪성산갈치조림순덕이네 ▪제주 서귀포시 성산읍 온평서로 48 ▪0507-1317-0073 ▪추천메뉴 : 돌문어볶음(32,000) 돌문어톳죽(13,000) . . #제주맛집 #제주맛집추천 #제주도맛집 #제주현지인맛집 #성산맛집 #제주순덕이네 #돌문어볶음 #돌문어톳죽 #성산일출봉맛집 #맛뉴픽 #맛집뉴스 #맛뉴 #맛뉴_제주도',\n",
       " '중문으로 이사 온지 2년. 이 동네 어지간한 식당은 다 가 본 것 같다. 맛집들이 많아서 좋긴 한데, 중문은 관광단지 특성상 가볍게 한끼 때울 수 있는 반상집들이 많지 않다. 그래서 요즘은 동네 밥집들을 발굴하는데 재미가 붙었다. ⠀ 찾던 중 #달팽이식당 을 알게 됐다. 석쇠불고기와 청국장 세트를 판매하는 달팽이식당은 이미 유명한 집이었다. 블로그 리뷰들을 읽어 보니 손님들이 줄에 줄을 서서 몇 번만에 입성할 수 있었다는 얘기들이 많았다. 달팽이식당이 최근 확장 이전을 해서 우리가 찾아간 날에는 다행히 웨이팅 없이 바로 들어갈 수 있었다. 그럼에도 홀이 만석을 이룰 정도로 그 인기를 실감할 수 있었다. ⠀ 달팽이식당은 단일 메뉴를 판매하기 때문에 직원에게 인원만 확인해주면 바로 주문이 들어간다. 청국장과 석쇠불고기를 판매하는 집 치고 인테리어는 모던한 레스토랑 느낌을 준다. 사장님이 이 공간을 만들기 위해 1년 동안 직접 목공작업을 하고 돌을 쌓았다고 한다. ⠀ 음식 셋팅도 레트로와 모던 감성을 동시에 담고 있다. 시골 할머니 집에서 볼법한 동그란 쟁반에 8가지 반찬이 정갈하게 모여 앉아 있고, 불고기는 이탈리안 레스토랑에서 볼 수 있는 피자 받침 위에 올라간다. 그리고 그 밑에는 작은 초가 불고기를 따뜻하게 데워준다. ⠀ 청국장은 청국장 답게 뚝배기에 나오지만, 밥은 요즘 소위 말하는 ‘자연주의’ 식당에서 사용하는 나무 샐러드 볼에 나온다. 수저를 짚기도 전에 재미난 구경거리가 펼쳐지는 것이다. ⠀ 가장 먼저 맛 본 건 불고기도 청국장도 아닌 반찬이었다. 진짜 맛집은 반찬에도 정성을 듬뿍 넣는다. 만족스러운 한 바퀴였다. 홈메이드 맛이 물씬 나서 사장님에게 물어보니 역시나 아침마다 반찬을 직접 만드신다고 한다. ⠀ 그 다음은 불고기와 청국장을 영접하기 위한 밑작업을 시작했다. 밥 그릇엔 족히 세 공기가 들어간 것 같아 보인다. 고추장과 나물들이 들어가 있는 개인 밥그릇에 밥을 적당량 담고, 그 위에 취향에 맞게 청국장을 곁들여 비빈다. 본능적으로 움직인 숟가락이지만, 나중에 사장님께 물어보니 비빔밥에 청국장을 넣으라고 일부러 고추장을 조금만 뿌렸다고 한다. ⠀ 불고기 맛을 보기 앞서 청국장 한 숟갈을 떴다. 달팽이식당은 석쇠불고기 전문점으로 시작했다가 3년 전부터 청국장을 도입했다고 한다. 근데 여러 전언에 의하면 지금은 청국장이 불고기 보다 더 많은 스포트라이트를 받고 있는 것 같다. 원래는 강원도에서 농사 지으시는 사장님 지인의 할머니께서 보내주시는 청국장을 사용하셨다고 하는데, 최근에 할머니가 편찮으셔서 당분간 다른 곳에서 띄운 청국장일 사용하고 있다. ⠀ 청국장 맛도 식당 분위기처럼 모던한 느낌이다. 일반적인 청국장에 비해 좀 더 매콤한 맛이 있고, 너무 진하지 않아서 호불호가 크게 갈리지 않을 것 같다. 실제로 이날 어린 애들도 맛있게 먹는 모습을 보고 좀 놀랐다. 제주도에 청국장 맛집들이 여럿 있긴 하지만, 지역 특성상 청국장이 잘 띄워지지 않아서 그렇게 흔하지는 않다. 그래서인지 도민 보다는 관광객들과 육지에서 이주해온 손님들의 비중이 많다고 한다. ⠀ 이제야 대망의 불고기에 도착했다. 달팽이식당은 불고기를 오래 재워 두지 않기 위해 이틀에 한번씩 고기를 준비하고 있다. 그 신선함이 고스란이 느껴진다. 고기가 그런건지 양념이 그런건지 아무튼 불고기에서 탱글탱글한 식감을 오랜만에 느껴본다. 불맛이 고기 맛을 압도하지 않고, 딱 적절한 균형을 이룬다. 불고기 전문점 답게 달팽이식당의 불고기는 주인공 역할을 톡톡히 한다. ⠀ 달팽이식당은 지금 다방면으로 리뉴얼 작업에 들어간 상태다. 저녁에는 버닝치즈라는 이름으로 별도의 메뉴를 제공하고 있고, 기존 달팽이식당 위치에서는 또 다른 아이템이 준비 중이다. 브랜딩에 관심 많은 나로서 호기심이 많이 생긴다. 집에서도 가깝겠다, 앞으로 달팽이식당이 어떻게 발전해 나가는지 유심히 지켜볼 예정이다.',\n",
       " '#우도온오프 물빛 예쁜 우도 오션뷰의 대박적 맛집이쟈나😍 여기 돈까스는 찐이라고 인정킹정받음👀  바삭 그 자체 튀김옷에 두툼한 고기에 줄줄 흘러넘치는 꼬소한 치즈까지 완벽조합❗️ 여기에 맥주 안마시면 이건 반칙이다..😁 힐링하기 딱 좋은 우도 필수 코스야💙 @여기 안가면 손해래 가쟈ㄱㄱ 🙋\\u200d♀️ . 🔹주소 : 제주 제주시 우도면 우도해안길 876 🔹매일 11:00 ~ 16:00  #제주맛집 #제주도맛집 #제주오션뷰 #제주오션뷰맛집 #우도맛집 #우도맛집추천 #우도카페 #우도온오프 #제주여행 #제주도여행 #제주여행코스 #우도여행 #제주데이트코스 #흑돼지돈까스 #치즈돈까스 #돈까스맛집',\n",
       " '#금능해수욕장 바다 피크닉도 인생샷도 여긴 다 가능해💙 예쁜 물색에 물놀이 하기도 좋은데다 이국적인 분위기에 사진찍으면 인생샷😆 감성피크닉에 캠프닉 명소 라구❗️ @갬성샷 못참는 친구 소환🙋\\u200d♀️ . 주소 : 제주 제주시 한림읍 금능리  #제주맛집 #제주도맛집 #제주오션뷰 #제주도오션뷰 #제주오션뷰맛집 #제주여행 #제주도여행 #제주여행코스 #제주데이트코스 #제주서쪽 #제주서쪽여행 #제주도서쪽 #금능해수욕장 #제주피크닉',\n",
       " '손끝에서 완성되는 작지만 가장 완벽한 요리 한라봉스시에서 제주의 깊은 맛을 즐겨보세요  싱싱한 활어회와 감칠맛나는 상큼한 샤리가 어우러지는 초밥, 가성비 좋은 세트메뉴와 한라봉 빛 오션뷰 가족과 연인과 함께 제주여행을 즐겨보세요 애월 #한담해안산책로 에 위치한 한라봉스시입니다  🧡가성비 좋은 한라봉스시 추천메뉴🧡 ✔️초밥 A세트 - 초밥11p + 한라봉샐러드 + 새우튀김 1p = 13.0 (새우+연어스테이크+연어+김치광어+계란+유부)  ✔️초밥 B세트 - 초밥 12p + 한라봉샐러드 + 미니고기국수 + 새우튀김 1p = 17.0 (간장새우+장어+전복+참치+연어+활어+김치광어)  ➖전 메뉴 포장 가능합니다➖  제주시 애월읍 애월북서길 54 2층 OPEN 11:00 / CLOSE 24:00 LAST ODER 21:00 6월부터 10월까지 24시까지 영업 Break Time 15:00 - 16:30 070-4566-9001  감사합니다.  #애월맛집 #제주도맛집 #제주맛집 #애월스시 #제주스시 #애월초밥 #제주초밥 #한라봉스시',\n",
       " '일몰감성 터지는 회 맛집>< #조천수산 코 앞에 바다를 두고 먹는 싱싱한 회❗️ 쌈야채나 음료는 따로 준비해와야 하지만 후회없을 노을 맛집이 요기야🧡 캠핑 장비가 없어도 돗자리 하나만 깔아도 좋아😆  주소 : 제주특별자치도 제주시 조천읍 조천북1길 35-8  #제주맛집 #제주도맛집 #제주오션뷰 #제주오션뷰맛집 #제주여행 #제주도여행 #제주여행코스 #제주데이트코스 #제주동쪽 #제주동쪽맛집 #조천 #조천맛집 #제주회맛집',\n",
       " '#제주맛집 산도롱맨도롱----------🍜  🍜푸욱 고운 사골육수 베이스! 🍜100% 제주산 \"우대갈비\" 토핑~ 🍜탱글탱글 면발과 육수의 조합 🍜잡내를 완벽히 잡은 돔베고기까지! . 대기시간이 비교적 없는 아침타임! 성산일출봉을 다녀온후 아침드시기 좋습니다😙  #제주도맛집 . 산도롱맨도롱 영업시간:07:00~17:00 ✔매주 화요일은 휴무입니다✔ 문의 : 064-782-5105 . #제주도고기국수맛집 #성산맛집 #섭지코지맛집 #제주먹방투어 #성산아침식사 #제주도성산일출봉맛집 #제주현지인추천',\n",
       " '(광고) 입점 자체가 넘사벽인 동문야시장에 찐 맛집이 나타났다! \" 꼬치 피는 밤 \" 동문시장 상륙!!!!!\\uf60d . 제주하면 생각나는 산해진미를 사용하고 사이좋은 형제가 운영하는 맛집이라 더더 자부심을 갖고 만든데!!\\uf44f\\uf44f . . 우리 동네에서는 볼 수 없는 제주만의 맛을 느낄수있고 음식마다 소스를 다르게 선택할 수 있다는것도 하나의 장점! . 젊은 사장님들이 매일 새벽부터 재료 준비해서 만든 음식들이래! 제주도 가면 무조건 한번쯤은 들리는게 동문야시장이잖아? 시장가면 또 특색있는 음식 먹어봐야지~? . . 동문야시장 TOP4 메뉴! top1. 흑돼지 새우말이 꼬치 top2. 흑돼지 오겹말이 top3. 흑돼지 바삭만두 top4. 딱새우 멘보샤 . 이번 제주도 여행에서는 무조건 여기부터 들러보자!❤️  #제주맛집 #제주맛집추천 #제주도맛집 #동문시장 #동문시장맛집 #동문야시장 #동문시장야시장 #제주가볼만한곳 #제주시맛집 #제주여행코스 #제주흑돼지 #제주여행 #제주도여행 #제주카페 #제주자유여행 #제주도민맛집 #제주에서뭐하지 #제주핫플레이스 #제주흑돼지맛집 #제주먹방',\n",
       " '. 🌴이도이동 #삼계별장 🌴 대통령맛집으로 유명한! 옹포별장가든의 2호점😍  야들야들 촉촉한 닭고기는 여기가 ㄹㅇ 원탑이라니까,,❤ 누린내가 1도 없어서 호로록 국물까지 원샷 바로 각👍 삼계탕부터 닭 한마리까지 다 존맛!  여름메뉴료 닭물회도 있는데 시원~함의 끝판왕이쟈나,,😍  @여기 단골예약😋 @여름 보양단골집 등록👍  🚩제주 제주시 연북로 599 1층 ⏰매일 11:00 - 21:00 ❗라스트오더 20시 ❌매주 화요일휴무 💜@3gye.star_jeju . . . #선팔하면맞팔 #선팔하면맞팔가요 #맞팔100 #디엠 #좋반환영 #좋반댓 #먹스타 #먹스타그램 #음식스타그램 #likeforlikes #제주맛집 #제주도맛집 #애월맛집 #서귀포맛집 #이도이동맛집 #이도동맛집 #제주여행 #제주여행코스 #제주데이트 #제주데이트코스',\n",
       " '에메랄드색 자게 🌊🌊 50.000 WON  . . . 🖤이달의아트 3만원~ 🖤10손 풀스톤 79,000원 🖤10손연장 59,000원 . 🤟모든아트 색상변경 가능 🤟타샵 자샵 젤제거 무료🥰 🤟색추가,글리터,무광무료🥰 🤟기본 손발 젤 30,000원 🤟유지력을 높여주는 오버레이서비스! 🤟샵앞 주차가능 1대 . .  문의는 인스타DM 또는 카카오톡오픈채팅으로 문의주세욤❣ . ⭕예약양식⭕  ✔성함, 연락처 ✔원하시는 날짜 ,시간 ✔손 / 발 쏙오프(젤 제거) 유,무 ✔원하시는 디자인 첨부 또는 설명',\n",
       " '#제주트렌드 창 너머로 바다가 보이는 카페 . . . #제주여행 #제주 #제주핫플 #제주핫플레이스 #제주도가볼만한곳 #서귀포가볼만한곳 #제주맛집 #제주카페 #제주도사진찍기좋은곳 #제주인생샷 #제주풍경사진 #인생샷명소 #제주여행 #제주풍경 #여행 #카페스타그램 #제주카페투어 #휴식 #일상 #인생샷 #포토스팟 #사진명소 #제주살이 #여행사진 #사진에미치다 #제주맛집 #제주카페 #사진쟁이 #사진스타그램',\n",
       " '로드129 제주산 멘치까스 흑돼지돈까스 고구마치즈돈까스 성게크림파스타 해물야끼소바 . . . #제주도애월맛집#아르떼뮤지엄 #애월맛집#제주맛집 #애월#곽지해수욕장맛집#제주여행#제주시맛집#협재맛집#제주도#곽지맛집#제주도가족여행 #제주도맛집추천#제주공항근처맛집#제주도맛집#새별오름#협재해수욕장맛집#제주도여행#제주',\n",
       " '2021.06.23.수요일 #제주여행5일차 #여행기록중 #성산키작은삼촌 이번 제주에서 우리의 마지막 만찬__ 숙소에서 나온 조식은 지유가 제대로 먹지를 않아서 우리는 소화도 다 못시킨채 점심을 먹어야만 했다. 그리고 저녁은 공항 근처 남춘식당에 가서 김밥을 포장했는데 생각보다 차가 많이 막혀서 공항에 늦게 도착했고 그와중에 이지유 아버님은 면세점에서 꼭 구름과자를 사야겠다고😖 그거 사느라 비행기 탑승이 늦어졌고 그덕에 이지유 손님!강경아손님!하며 우리 이름이 공항내에 울려퍼졌다😂 공항에서 방송타긴 참 오랜만이군 ㅋㅋㅋ . .  #제주도#제주#jeju#jejuisland #제주여행#제주동쪽여행#제주맛집#가족여행#여행스타그램#육아스타그램#육아일기#일곱살#딸#딸맘#202106월지유',\n",
       " '단잠 오픈준비중. @danjam_jeju . . .  . . .  #단잠 #단잠게스트하우스 #제주게스트하우스 #게스트하우스 #애월 #애월게스트하우스 #한림게스트하우스 #한림 #게스트하우스추천 #귀덕게스트하우스 #제주 #제주여행 #제주도 #제주맛집 #제주도맛집 #제주도여행 #여행스타그램 #맛집추천#단잠',\n",
       " '마감 후 떡맥… 요즘 저녁에 날이 참 시원하고 좋아요 분식후경 떡볶이 포장해서 바다 앞 난장 추천합니다 정말 너무 좋아요…!']"
      ]
     },
     "execution_count": 270,
     "metadata": {},
     "output_type": "execute_result"
    }
   ],
   "source": [
    "# 각 포스트 모두에 해당하는 공통적인 태그를 찾아야 함\n",
    "tags = browser.find_elements_by_css_selector('.v1Nh3.kIKUG._bz0w')\n",
    "\n",
    "posts = []\n",
    "\n",
    "for tag in tags:            # list 안의 WebElement를 반복\n",
    "    tag.click()          \n",
    "    time.sleep(3)  \n",
    "    \n",
    "    # 글 내용 & hashtag 긁어옴\n",
    "    # strip은 양 끝 \\n만 제거하고 replace가 글 중간의 \\n까지 제거함\n",
    "    post = browser.find_element(By.CSS_SELECTOR, 'div.EtaWk > ul > div > li > div > div > div.C4VMK > span').text.replace('\\n', ' ')  \n",
    "    posts.append(post)\n",
    "    # hashtags = browser.find_elements(By.CSS_SELECTOR, 'a[href*=\"/explore/tags/\"]')  # hashtag만 모두 긁어오려면\n",
    "    browser.find_element(By.CSS_SELECTOR, 'svg[aria-label=\"Close\"]').click()          # x 버튼 클릭해서 창 닫기\n",
    "    \n",
    "    # post 15개 긁어오면 멈추게 하기\n",
    "    if len(posts) == 15:\n",
    "        break\n",
    "        \n",
    "posts"
   ]
  },
  {
   "cell_type": "code",
   "execution_count": 252,
   "metadata": {
    "collapsed": true
   },
   "outputs": [
    {
     "data": {
      "text/plain": [
       "['__add__',\n",
       " '__class__',\n",
       " '__contains__',\n",
       " '__delattr__',\n",
       " '__dir__',\n",
       " '__doc__',\n",
       " '__eq__',\n",
       " '__format__',\n",
       " '__ge__',\n",
       " '__getattribute__',\n",
       " '__getitem__',\n",
       " '__getnewargs__',\n",
       " '__gt__',\n",
       " '__hash__',\n",
       " '__init__',\n",
       " '__init_subclass__',\n",
       " '__iter__',\n",
       " '__le__',\n",
       " '__len__',\n",
       " '__lt__',\n",
       " '__mod__',\n",
       " '__mul__',\n",
       " '__ne__',\n",
       " '__new__',\n",
       " '__reduce__',\n",
       " '__reduce_ex__',\n",
       " '__repr__',\n",
       " '__rmod__',\n",
       " '__rmul__',\n",
       " '__setattr__',\n",
       " '__sizeof__',\n",
       " '__str__',\n",
       " '__subclasshook__',\n",
       " 'capitalize',\n",
       " 'casefold',\n",
       " 'center',\n",
       " 'count',\n",
       " 'encode',\n",
       " 'endswith',\n",
       " 'expandtabs',\n",
       " 'find',\n",
       " 'format',\n",
       " 'format_map',\n",
       " 'index',\n",
       " 'isalnum',\n",
       " 'isalpha',\n",
       " 'isascii',\n",
       " 'isdecimal',\n",
       " 'isdigit',\n",
       " 'isidentifier',\n",
       " 'islower',\n",
       " 'isnumeric',\n",
       " 'isprintable',\n",
       " 'isspace',\n",
       " 'istitle',\n",
       " 'isupper',\n",
       " 'join',\n",
       " 'ljust',\n",
       " 'lower',\n",
       " 'lstrip',\n",
       " 'maketrans',\n",
       " 'partition',\n",
       " 'replace',\n",
       " 'rfind',\n",
       " 'rindex',\n",
       " 'rjust',\n",
       " 'rpartition',\n",
       " 'rsplit',\n",
       " 'rstrip',\n",
       " 'split',\n",
       " 'splitlines',\n",
       " 'startswith',\n",
       " 'strip',\n",
       " 'swapcase',\n",
       " 'title',\n",
       " 'translate',\n",
       " 'upper',\n",
       " 'zfill']"
      ]
     },
     "execution_count": 252,
     "metadata": {},
     "output_type": "execute_result"
    }
   ],
   "source": [
    "# text 불러와서 사용할 수 있는 namespace 확인 - strip, replace 가능한지 확인하기 위해서 (가능)\n",
    "type(browser.find_element(By.CSS_SELECTOR, 'body').text)          # str\n",
    "dir(browser.find_element(By.CSS_SELECTOR, 'body').text)         "
   ]
  }
 ],
 "metadata": {
  "kernelspec": {
   "display_name": "Python 3",
   "language": "python",
   "name": "python3"
  },
  "language_info": {
   "codemirror_mode": {
    "name": "ipython",
    "version": 3
   },
   "file_extension": ".py",
   "mimetype": "text/x-python",
   "name": "python",
   "nbconvert_exporter": "python",
   "pygments_lexer": "ipython3",
   "version": "3.8.8"
  }
 },
 "nbformat": 4,
 "nbformat_minor": 4
}
