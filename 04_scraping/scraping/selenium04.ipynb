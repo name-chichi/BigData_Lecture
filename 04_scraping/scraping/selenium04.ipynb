{
 "cells": [
  {
   "cell_type": "markdown",
   "metadata": {},
   "source": [
    "## Youtube Ranking Scraping\n",
    "https://youtube-rank.com/board/?mid=home"
   ]
  },
  {
   "cell_type": "code",
   "execution_count": 1,
   "metadata": {},
   "outputs": [],
   "source": [
    "from selenium import webdriver\n",
    "from bs4 import BeautifulSoup as BS\n",
    "import pandas as pd"
   ]
  },
  {
   "cell_type": "code",
   "execution_count": 2,
   "metadata": {},
   "outputs": [],
   "source": [
    "browser = webdriver.Chrome()\n",
    "browser.get('https://youtube-rank.com/board/bbs/board.php?bo_table=youtube')\n",
    "page = browser.page_source"
   ]
  },
  {
   "cell_type": "code",
   "execution_count": 3,
   "metadata": {},
   "outputs": [],
   "source": [
    "soup = BS(page, 'html.parser')"
   ]
  },
  {
   "cell_type": "code",
   "execution_count": 4,
   "metadata": {},
   "outputs": [
    {
     "data": {
      "text/plain": [
       "(100,\n",
       " <tr class=\"aos-init aos-animate\" data-aos=\"fade-up\" data-aos-duration=\"800\">\n",
       " <td class=\"rank\">\n",
       "                         1                    </td>\n",
       " <td class=\"td_img\">\n",
       " <div class=\"info_img\"><a href=\"https://youtube-rank.com/board/bbs/board.php?bo_table=youtube&amp;wr_id=3203\"><img class=\"lazyload\" data-src=\"https://yt3.ggpht.com/ytc/AKedOLTat8_vr7h2i29n67lvNLMp1F-9Ch2ejFRlRzt0zQ=s88-c-k-c0x00ffffff-no-rj-mo\" height=\"88\" src=\"https://yt3.ggpht.com/ytc/AKedOLTat8_vr7h2i29n67lvNLMp1F-9Ch2ejFRlRzt0zQ=s88-c-k-c0x00ffffff-no-rj-mo\" width=\"88\"/></a></div>\n",
       " <p class=\"info_rank\">1</p>\n",
       " </td>\n",
       " <td class=\"subject\">\n",
       " <h1>\n",
       " <p <a=\"\" class=\"category\" href=\"https://youtube-rank.com/board/bbs/board.php?bo_table=youtube&amp;sca=%EC%9D%8C%EC%95%85%2F%EB%8C%84%EC%8A%A4%2F%EA%B0%80%EC%88%98\">[음악/댄스/가수]\n",
       "                                 \n",
       "                                 </p>\n",
       " <a href=\"https://youtube-rank.com/board/bbs/board.php?bo_table=youtube&amp;wr_id=3203\">\n",
       " \t\t\t\t\t\t\t\t\n",
       " \t\t\t\t\t\t\t\tBLACKPINK\t\t\t\t\t\t\t</a>\n",
       " <span>\n",
       " <i class=\"fa fa-comment\"></i>\n",
       " \t\t\t\t\t\t\t\t1\t\t\t\t\t\t\t</span>\n",
       " <i aria-hidden=\"true\" class=\"fa fa-heart\"></i> </h1>\n",
       " <h2><span><a href=\"https://youtube-rank.com/board/bbs/board.php?bo_table=youtube&amp;wr_id=3203\">\"YG Entertainment\" YG 와이지 K-pop BLACKPINK 블랙핑크 블핑 제니 로제 리사 지수 Lisa Jisoo Jennie ...</a></span></h2>\n",
       " <h3>\n",
       " <i class=\"fa fa-user\"></i>\n",
       "                             6250만<i class=\"fa fa-play\"></i>182억7366만                            <i class=\"fa fa-video-camera\"></i>\n",
       "                             359                            <i class=\"fa fa-eye\"></i>\n",
       "                             13,388                        </h3>\n",
       " </td>\n",
       " <td class=\"subscriber_cnt\">6250만</td>\n",
       " <td class=\"view_cnt\">182억7366만</td>\n",
       " <td class=\"video_cnt\">359개</td>\n",
       " <td class=\"hit\">\n",
       " <strong>13,388</strong>\n",
       " <span>HIT</span>\n",
       " </td>\n",
       " </tr>)"
      ]
     },
     "execution_count": 4,
     "metadata": {},
     "output_type": "execute_result"
    }
   ],
   "source": [
    "# 원하는 정보(category, channel)를 한번에 다 담는 selector를 찾아옴\n",
    "tags = soup.select('tr.aos-init')\n",
    "len(tags), tags[0]                         # tags가 실제 chrome에서 보이는 태그 구성과 약간 다르다!!! (double-check 필요)"
   ]
  },
  {
   "cell_type": "code",
   "execution_count": 5,
   "metadata": {},
   "outputs": [
    {
     "data": {
      "text/plain": [
       "(100,\n",
       " [['[음악/댄스/가수]', 'BLACKPINK'],\n",
       "  ['[음악/댄스/가수]', 'HYBE LABELS'],\n",
       "  ['[음악/댄스/가수]', 'BANGTANTV'],\n",
       "  ['[음악/댄스/가수]', 'SMTOWN'],\n",
       "  ['[키즈/어린이]', 'Boram Tube Vlog [보람튜브 브이로그]'],\n",
       "  ['[음악/댄스/가수]', '1MILLION Dance Studio'],\n",
       "  ['[음악/댄스/가수]', '1theK (원더케이)'],\n",
       "  ['[음악/댄스/가수]', 'JYP Entertainment'],\n",
       "  ['[미분류]', 'Coldplay'],\n",
       "  ['[음악/댄스/가수]', 'Mnet K-POP'],\n",
       "  ['[음악/댄스/가수]', 'JFlaMusic'],\n",
       "  ['[TV/방송]', 'KBS WORLD TV'],\n",
       "  ['[음악/댄스/가수]', 'officialpsy'],\n",
       "  ['[음악/댄스/가수]', 'BIGBANG'],\n",
       "  ['[음식/요리/레시피]', 'Jane ASMR 제인'],\n",
       "  ['[음악/댄스/가수]', 'TWICE'],\n",
       "  ['[키즈/어린이]', 'Nao FunFun'],\n",
       "  ['[음악/댄스/가수]', 'Stone Music Entertainment'],\n",
       "  ['[키즈/어린이]', 'DuDuPopTOY'],\n",
       "  ['[TV/방송]', 'MBCkpop'],\n",
       "  ['[키즈/어린이]', '서은이야기[SeoeunStory]'],\n",
       "  ['[키즈/어린이]', '핑크퐁 (인기 동요・동화)'],\n",
       "  ['[음식/요리/레시피]', 'Hongyu ASMR 홍유'],\n",
       "  ['[키즈/어린이]', 'Larva TUBA'],\n",
       "  ['[키즈/어린이]', 'Toymong tv 토이몽TV'],\n",
       "  ['[미분류]', 'The Late Show with Stephen Colbert'],\n",
       "  ['[뉴스/정치/사회]', 'MBCentertainment'],\n",
       "  ['[음악/댄스/가수]', 'Mnet Official'],\n",
       "  ['[음악/댄스/가수]', 'iKON'],\n",
       "  ['[음악/댄스/가수]', 'EXO'],\n",
       "  ['[미분류]', 'Nintendo'],\n",
       "  ['[키즈/어린이]', 'MariAndKids'],\n",
       "  ['[TV/방송]', 'M2'],\n",
       "  ['[키즈/어린이]', 'SonicToy소닉토이'],\n",
       "  ['[음식/요리/레시피]', '[햄지]Hamzy'],\n",
       "  ['[음악/댄스/가수]', 'TOMORROW X TOGETHER OFFICIAL'],\n",
       "  ['[해외]', 'Serie A'],\n",
       "  ['[뉴스/정치/사회]', 'JTBC Entertainment'],\n",
       "  ['[음악/댄스/가수]', 'Sungha Jung'],\n",
       "  ['[음식/요리/레시피]', 'Travel Thirsty'],\n",
       "  ['[음악/댄스/가수]', 'SEVENTEEN'],\n",
       "  ['[음악/댄스/가수]', 'Stray Kids'],\n",
       "  ['[음악/댄스/가수]', 'ALL THE K-POP'],\n",
       "  ['[음악/댄스/가수]', 'YG ENTERTAINMENT'],\n",
       "  ['[음악/댄스/가수]', '이지금 [IU Official]'],\n",
       "  ['[TV/방송]', 'KBS Kpop'],\n",
       "  ['[음식/요리/레시피]', '문복희 Eat with Boki'],\n",
       "  ['[음악/댄스/가수]', 'GOT7'],\n",
       "  ['[음식/요리/레시피]', '쏘영 Ssoyoung'],\n",
       "  ['[음악/댄스/가수]', 'MAMAMOO'],\n",
       "  ['[패션/미용]', 'PONY Syndrome'],\n",
       "  ['[TV/방송]', 'tvN DRAMA'],\n",
       "  ['[TV/방송]', '스브스케이팝 / SBS KPOP'],\n",
       "  ['[회사/오피셜]', 'Samsung'],\n",
       "  ['[TV/방송]', 'SBS Entertainment'],\n",
       "  ['[키즈/어린이]', '스위트티비 SweetTV'],\n",
       "  ['[TV/방송]', 'SBS Drama'],\n",
       "  ['[음악/댄스/가수]', 'ITZY'],\n",
       "  ['[키즈/어린이]', '[장난감티비]TOYTV'],\n",
       "  ['[음악/댄스/가수]', '2NE1'],\n",
       "  ['[키즈/어린이]', '미니특공대TV'],\n",
       "  ['[키즈/어린이]', '콩순이 • 시크릿 쥬쥬 [Kongsuni • Secret Jouju]'],\n",
       "  ['[BJ/인물/연예인]', '[Awesome Haeun]어썸하은'],\n",
       "  ['[음식/요리/레시피]', \"백종원의 요리비책 Paik's Cuisine\"],\n",
       "  ['[키즈/어린이]', 'ToyMart TV'],\n",
       "  ['[음악/댄스/가수]', 'starshipTV'],\n",
       "  ['[키즈/어린이]', '베이비버스 -인기 동요・동화'],\n",
       "  ['[음악/댄스/가수]', 'BT21'],\n",
       "  ['[뉴스/정치/사회]', 'SBS NOW / SBS 공식 채널'],\n",
       "  ['[키즈/어린이]', 'TOY GUMA'],\n",
       "  ['[TV/방송]', 'KBS Entertain'],\n",
       "  ['[음식/요리/레시피]', '떵개떵'],\n",
       "  ['[음식/요리/레시피]', '야미보이 Yummyboy'],\n",
       "  ['[음식/요리/레시피]', '하루한끼 one meal a day'],\n",
       "  ['[키즈/어린이]', '뽀로로(Pororo)'],\n",
       "  ['[TV/방송]', 'MBCdrama'],\n",
       "  ['[음악/댄스/가수]', 'ASTRO 아스트로'],\n",
       "  ['[음악/댄스/가수]', 'Raon Lee'],\n",
       "  ['[키즈/어린이]', '슈슈토이 Shushu ToysReview'],\n",
       "  ['[음식/요리/레시피]', '[Dorothy]도로시'],\n",
       "  ['[음악/댄스/가수]', 'Red Velvet'],\n",
       "  ['[음악/댄스/가수]', 'TREASURE (트레저)'],\n",
       "  ['[TV/방송]', '채널 NCT DAILY'],\n",
       "  ['[음식/요리/레시피]', '푸메Fume'],\n",
       "  ['[음식/요리/레시피]', 'Cooking tree 쿠킹트리'],\n",
       "  ['[애완/반려동물]', 'SBS TV동물농장x애니멀봐'],\n",
       "  ['[키즈/어린이]', 'With Kids Playground [위드키즈 놀이터]'],\n",
       "  ['[키즈/어린이]', '로미유 스토리[Romiyu Story]'],\n",
       "  ['[TV/방송]', 'JTBC Drama'],\n",
       "  ['[음식/요리/레시피]', '까니짱 [ G-NI ]'],\n",
       "  ['[키즈/어린이]', 'Evan Kids'],\n",
       "  ['[음악/댄스/가수]', 'NCT'],\n",
       "  ['[BJ/인물/연예인]', '영국남자 Korean Englishman'],\n",
       "  ['[애완/반려동물]', '크림히어로즈'],\n",
       "  ['[BJ/인물/연예인]', '허팝Heopop'],\n",
       "  ['[BJ/인물/연예인]', '워크맨-Workman'],\n",
       "  ['[BJ/인물/연예인]', 'waveya 2011'],\n",
       "  ['[키즈/어린이]', 'Lime Tube[라임튜브]'],\n",
       "  ['[음악/댄스/가수]', 'WINNER'],\n",
       "  ['[취미/라이프]', 'JaeYeol ASMR 재열']])"
      ]
     },
     "execution_count": 5,
     "metadata": {},
     "output_type": "execute_result"
    }
   ],
   "source": [
    "# for loop\n",
    "ranks = []\n",
    "\n",
    "for tag in tags:\n",
    "    cat = tag.select('p.category')[0].text.strip()         # 위에서 불러온 html 태그가 약간 이상해서 selector는 chrome에서 찾기!\n",
    "    ch = tag.select('td.subject > h1 > a')[0].text.strip()\n",
    "    rank = [cat, ch]\n",
    "    ranks.append(rank)\n",
    "len(ranks), ranks"
   ]
  },
  {
   "cell_type": "code",
   "execution_count": 6,
   "metadata": {},
   "outputs": [],
   "source": [
    "# dataframe으로 만들기\n",
    "yt = pd.DataFrame(ranks, columns=['Category', 'Channel'], index=range(1, 101)).head()"
   ]
  },
  {
   "cell_type": "code",
   "execution_count": 7,
   "metadata": {},
   "outputs": [
    {
     "name": "stdout",
     "output_type": "stream",
     "text": [
      "저장완료------------------------------------------------\n"
     ]
    }
   ],
   "source": [
    "# excel로 저장\n",
    "yt.to_excel('./files/ytuberank.xlsx', index=True, header=True)\n",
    "print('저장완료------------------------------------------------')"
   ]
  },
  {
   "cell_type": "markdown",
   "metadata": {},
   "source": [
    "#### Rank table의 상단 header만 불러오기"
   ]
  },
  {
   "cell_type": "code",
   "execution_count": 8,
   "metadata": {},
   "outputs": [
    {
     "data": {
      "text/plain": [
       "<thead>\n",
       "<tr>\n",
       "<th class=\"rank\"><a href=\"/board/bbs/board.php?bo_table=youtube&amp;sop=and&amp;sst=rank&amp;sod=desc&amp;sfl=&amp;stx=&amp;sca=&amp;page=1\">순위 <i aria-hidden=\"true\" class=\"fa fa-sort\"></i></a></th>\n",
       "<th class=\"td_img\">이미지</th>\n",
       "<th class=\"subject\">제목</th>\n",
       "<th class=\"subscriber_cnt\"><a href=\"/board/bbs/board.php?bo_table=youtube&amp;sop=and&amp;sst=subscriber_cnt&amp;sod=desc&amp;sfl=&amp;stx=&amp;sca=&amp;page=1\">구독자순 <i aria-hidden=\"true\" class=\"fa fa-sort\"></i></a></th>\n",
       "<th class=\"view_cnt\"><a href=\"/board/bbs/board.php?bo_table=youtube&amp;sop=and&amp;sst=view_cnt&amp;sod=desc&amp;sfl=&amp;stx=&amp;sca=&amp;page=1\">View순 <i aria-hidden=\"true\" class=\"fa fa-sort\"></i></a></th>\n",
       "<th class=\"video_cnt\"><a href=\"/board/bbs/board.php?bo_table=youtube&amp;sop=and&amp;sst=video_cnt&amp;sod=desc&amp;sfl=&amp;stx=&amp;sca=&amp;page=1\">Video순 <i aria-hidden=\"true\" class=\"fa fa-sort\"></i></a></th>\n",
       "<th class=\"hit\"><a href=\"/board/bbs/board.php?bo_table=youtube&amp;sop=and&amp;sst=wr_hit&amp;sod=desc&amp;sfl=&amp;stx=&amp;sca=&amp;page=1\">조회수 <i aria-hidden=\"true\" class=\"fa fa-sort\"></i></a></th>\n",
       "</tr>\n",
       "</thead>"
      ]
     },
     "execution_count": 8,
     "metadata": {},
     "output_type": "execute_result"
    }
   ],
   "source": [
    "# 이 부분은 특유해서 하나만 찾기 쉽다\n",
    "header = soup.select('table > thead')[0]\n",
    "header"
   ]
  },
  {
   "cell_type": "code",
   "execution_count": 9,
   "metadata": {},
   "outputs": [
    {
     "data": {
      "text/plain": [
       "['순위', '이미지', '제목', '구독자순', 'View순', 'Video순', '조회수']"
      ]
     },
     "execution_count": 9,
     "metadata": {},
     "output_type": "execute_result"
    }
   ],
   "source": [
    "rnk = header.select('.rank')[0].text.strip()\n",
    "img = header.select('.td_img')[0].text.strip()\n",
    "sbj = header.select('.subject')[0].text.strip()\n",
    "subsc= header.select('.subscriber_cnt')[0].text.strip()\n",
    "view = header.select('.view_cnt')[0].text.strip()\n",
    "vid = header.select('.video_cnt')[0].text.strip()\n",
    "hit = header.select('.hit')[0].text.strip()\n",
    "\n",
    "lst = [rnk, img, sbj, subsc, view, vid, hit]\n",
    "lst"
   ]
  },
  {
   "cell_type": "markdown",
   "metadata": {},
   "source": [
    "---\n",
    "## Scraping for All Pages\n",
    "inspect에 버튼 부분의 링크가 드러나 있으면 get 방식, 드러나 있지 않으면 post 방식 \n",
    "#### Page-nation"
   ]
  },
  {
   "cell_type": "code",
   "execution_count": 10,
   "metadata": {},
   "outputs": [
    {
     "data": {
      "text/plain": [
       "1000"
      ]
     },
     "execution_count": 10,
     "metadata": {},
     "output_type": "execute_result"
    }
   ],
   "source": [
    "# page 1~10의 url 생성\n",
    "url = 'https://youtube-rank.com/board/bbs/board.php?bo_table=youtube&page='  # 실제 url에서 끝에 page 넘버 바뀔 수 있도록 삭제\n",
    "ranks = []\n",
    "\n",
    "for page in range(1, 11):         \n",
    "    target = url + str(page)\n",
    "    browser.get(target)\n",
    "    html = browser.page_source\n",
    "    \n",
    "    soup = BS(html, 'html.parser')\n",
    "    tags = soup.select('tr.aos-init')\n",
    "    \n",
    "    for tag in tags:\n",
    "        cat = tag.select('p.category')[0].text.strip()\n",
    "        ch = tag.select('td.subject > h1 > a')[0].text.strip()\n",
    "        rank = [cat, ch]\n",
    "        ranks.append(rank)\n",
    "len(ranks)         # 길이가 길기 때문에 len()만 출력"
   ]
  }
 ],
 "metadata": {
  "kernelspec": {
   "display_name": "Python 3",
   "language": "python",
   "name": "python3"
  },
  "language_info": {
   "codemirror_mode": {
    "name": "ipython",
    "version": 3
   },
   "file_extension": ".py",
   "mimetype": "text/x-python",
   "name": "python",
   "nbconvert_exporter": "python",
   "pygments_lexer": "ipython3",
   "version": "3.8.8"
  }
 },
 "nbformat": 4,
 "nbformat_minor": 4
}
