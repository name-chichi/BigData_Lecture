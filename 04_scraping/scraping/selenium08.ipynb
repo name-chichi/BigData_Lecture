{
 "cells": [
  {
   "cell_type": "markdown",
   "metadata": {},
   "source": [
    "# GitHub Scraping\n",
    "Github의 DS_webscraping 페이지의 파일 목록을 가져와서 excel로 만들기"
   ]
  },
  {
   "cell_type": "code",
   "execution_count": 2,
   "metadata": {},
   "outputs": [],
   "source": [
    "from selenium import webdriver\n",
    "from bs4 import BeautifulSoup as BS\n",
    "import pandas as pd"
   ]
  },
  {
   "cell_type": "code",
   "execution_count": 3,
   "metadata": {},
   "outputs": [],
   "source": [
    "browser = webdriver.Chrome()\n",
    "browser.get('http://github.com/login')"
   ]
  },
  {
   "cell_type": "code",
   "execution_count": 4,
   "metadata": {},
   "outputs": [],
   "source": [
    "# Username 입력\n",
    "browser.find_element_by_name('login').send_keys('name-chichi')"
   ]
  },
  {
   "cell_type": "code",
   "execution_count": 8,
   "metadata": {},
   "outputs": [],
   "source": [
    "# Password 입력 - click\n",
    "browser.find_element_by_name('password').send_keys('******')\n",
    "browser.find_element_by_name('commit').click()"
   ]
  },
  {
   "cell_type": "code",
   "execution_count": 12,
   "metadata": {},
   "outputs": [],
   "source": [
    "# KDT-BigData 메뉴 click\n",
    "browser.find_element_by_css_selector('span[title=\"KDT-BigData\"]').click()"
   ]
  },
  {
   "cell_type": "code",
   "execution_count": 34,
   "metadata": {},
   "outputs": [],
   "source": [
    "# KDT-BigData 목록 페이지 html 가져오기\n",
    "page = browser.page_source\n",
    "soup = BS(page, 'html.parser')"
   ]
  },
  {
   "cell_type": "code",
   "execution_count": 33,
   "metadata": {
    "collapsed": true
   },
   "outputs": [
    {
     "data": {
      "text/plain": [
       "<div class=\"Box-row Box-row--focus-gray py-2 d-flex position-relative js-navigation-item\" role=\"row\">\n",
       "<div class=\"mr-3 flex-shrink-0\" role=\"gridcell\" style=\"width: 16px;\">\n",
       "<svg aria-hidden=\"true\" aria-label=\"Directory\" class=\"octicon octicon-file-directory hx_color-icon-directory\" data-view-component=\"true\" height=\"16\" version=\"1.1\" viewbox=\"0 0 16 16\" width=\"16\">\n",
       "<path d=\"M1.75 1A1.75 1.75 0 000 2.75v10.5C0 14.216.784 15 1.75 15h12.5A1.75 1.75 0 0016 13.25v-8.5A1.75 1.75 0 0014.25 3h-6.5a.25.25 0 01-.2-.1l-.9-1.2c-.33-.44-.85-.7-1.4-.7h-3.5z\" fill-rule=\"evenodd\"></path>\n",
       "</svg>\n",
       "</div>\n",
       "<div class=\"flex-auto min-width-0 col-md-2 mr-3\" role=\"rowheader\">\n",
       "<span class=\"css-truncate css-truncate-target d-block width-fit\"><a class=\"js-navigation-open Link--primary\" data-pjax=\"#repo-content-pjax-container\" href=\"/BreadFeet/DS_webscraping/tree/master/files\" title=\"files\">files</a></span>\n",
       "</div>\n",
       "<div class=\"flex-auto min-width-0 d-none d-md-block col-5 mr-3\" role=\"gridcell\">\n",
       "<span class=\"css-truncate css-truncate-target d-block width-fit markdown-title\">\n",
       "<a class=\"Link--secondary\" data-pjax=\"true\" href=\"/BreadFeet/DS_webscraping/commit/daf0e69142d72f445ecab52662eb47dc8eeed93e\" title=\"Create _final file &amp; Update .gitignore\">Create _final file &amp; Update .gitignore</a>\n",
       "</span>\n",
       "</div>\n",
       "<div class=\"color-text-tertiary text-right\" role=\"gridcell\" style=\"width:100px;\">\n",
       "<time-ago class=\"no-wrap\" data-view-component=\"true\" datetime=\"2021-06-24T21:03:39Z\" title=\"Jun 25, 2021, 6:03 AM GMT+9\">4 days ago</time-ago>\n",
       "</div>\n",
       "</div>"
      ]
     },
     "execution_count": 33,
     "metadata": {},
     "output_type": "execute_result"
    }
   ],
   "source": [
    "# 파일/폴더명, commit message, commit date를 모두 포함하는 태그 찾아서 불러옴\n",
    "tags = soup.select('.Box-row.js-navigation-item')\n",
    "tags[0]"
   ]
  },
  {
   "cell_type": "code",
   "execution_count": 20,
   "metadata": {},
   "outputs": [
    {
     "data": {
      "text/plain": [
       "[['files', 'Create _final file & Update .gitignore', '4 days ago'],\n",
       " ['storage', 'Create _final file & Update .gitignore', '4 days ago'],\n",
       " ['.gitignore', 'Create _final file & Update .gitignore', '4 days ago']]"
      ]
     },
     "execution_count": 20,
     "metadata": {},
     "output_type": "execute_result"
    }
   ],
   "source": [
    "# for loop으로 파일/폴더명, commit message, commit date을 각각 뽑아내기\n",
    "table = []\n",
    "\n",
    "for tag in tags:\n",
    "    file = tag.select_one('div[role=\"rowheader\"]').text.strip()\n",
    "    msg = tag.select_one('.Link--secondary').text\n",
    "    date = tag.select_one('time-ago').text\n",
    "    table.append([file, msg, date])\n",
    "\n",
    "table[:3]"
   ]
  },
  {
   "cell_type": "code",
   "execution_count": 24,
   "metadata": {},
   "outputs": [
    {
     "data": {
      "text/html": [
       "<div>\n",
       "<style scoped>\n",
       "    .dataframe tbody tr th:only-of-type {\n",
       "        vertical-align: middle;\n",
       "    }\n",
       "\n",
       "    .dataframe tbody tr th {\n",
       "        vertical-align: top;\n",
       "    }\n",
       "\n",
       "    .dataframe thead th {\n",
       "        text-align: right;\n",
       "    }\n",
       "</style>\n",
       "<table border=\"1\" class=\"dataframe\">\n",
       "  <thead>\n",
       "    <tr style=\"text-align: right;\">\n",
       "      <th></th>\n",
       "      <th>Name</th>\n",
       "      <th>Message</th>\n",
       "      <th>Date</th>\n",
       "    </tr>\n",
       "  </thead>\n",
       "  <tbody>\n",
       "    <tr>\n",
       "      <th>0</th>\n",
       "      <td>files</td>\n",
       "      <td>Create _final file &amp; Update .gitignore</td>\n",
       "      <td>4 days ago</td>\n",
       "    </tr>\n",
       "    <tr>\n",
       "      <th>1</th>\n",
       "      <td>storage</td>\n",
       "      <td>Create _final file &amp; Update .gitignore</td>\n",
       "      <td>4 days ago</td>\n",
       "    </tr>\n",
       "    <tr>\n",
       "      <th>2</th>\n",
       "      <td>.gitignore</td>\n",
       "      <td>Create _final file &amp; Update .gitignore</td>\n",
       "      <td>4 days ago</td>\n",
       "    </tr>\n",
       "    <tr>\n",
       "      <th>3</th>\n",
       "      <td>Day27_01_tag_object_final.ipynb</td>\n",
       "      <td>Rename files for sorting</td>\n",
       "      <td>3 hours ago</td>\n",
       "    </tr>\n",
       "    <tr>\n",
       "      <th>4</th>\n",
       "      <td>Day27_02_news_scraping_final.ipynb</td>\n",
       "      <td>Rename files for sorting</td>\n",
       "      <td>3 hours ago</td>\n",
       "    </tr>\n",
       "  </tbody>\n",
       "</table>\n",
       "</div>"
      ],
      "text/plain": [
       "                                 Name                                 Message  \\\n",
       "0                               files  Create _final file & Update .gitignore   \n",
       "1                             storage  Create _final file & Update .gitignore   \n",
       "2                          .gitignore  Create _final file & Update .gitignore   \n",
       "3     Day27_01_tag_object_final.ipynb                Rename files for sorting   \n",
       "4  Day27_02_news_scraping_final.ipynb                Rename files for sorting   \n",
       "\n",
       "          Date  \n",
       "0   4 days ago  \n",
       "1   4 days ago  \n",
       "2   4 days ago  \n",
       "3  3 hours ago  \n",
       "4  3 hours ago  "
      ]
     },
     "execution_count": 24,
     "metadata": {},
     "output_type": "execute_result"
    }
   ],
   "source": [
    "# Dataframe으로 만들기\n",
    "gh = pd.DataFrame(table, columns=['Name', 'Message', 'Date'])\n",
    "gh.head()"
   ]
  },
  {
   "cell_type": "code",
   "execution_count": 30,
   "metadata": {},
   "outputs": [
    {
     "name": "stdout",
     "output_type": "stream",
     "text": [
      "Dataframe saved to excel-----------------------------\n"
     ]
    }
   ],
   "source": [
    "# Excel 파일로 내보내기\n",
    "gh.to_excel('./storage/github.xlsx', header=True, index=False)\n",
    "print('Dataframe saved to excel-----------------------------')"
   ]
  },
  {
   "cell_type": "code",
   "execution_count": 32,
   "metadata": {
    "scrolled": false
   },
   "outputs": [
    {
     "data": {
      "text/html": [
       "<div>\n",
       "<style scoped>\n",
       "    .dataframe tbody tr th:only-of-type {\n",
       "        vertical-align: middle;\n",
       "    }\n",
       "\n",
       "    .dataframe tbody tr th {\n",
       "        vertical-align: top;\n",
       "    }\n",
       "\n",
       "    .dataframe thead th {\n",
       "        text-align: right;\n",
       "    }\n",
       "</style>\n",
       "<table border=\"1\" class=\"dataframe\">\n",
       "  <thead>\n",
       "    <tr style=\"text-align: right;\">\n",
       "      <th></th>\n",
       "      <th>Name</th>\n",
       "      <th>Message</th>\n",
       "      <th>Date</th>\n",
       "    </tr>\n",
       "  </thead>\n",
       "  <tbody>\n",
       "    <tr>\n",
       "      <th>0</th>\n",
       "      <td>files</td>\n",
       "      <td>Create _final file &amp; Update .gitignore</td>\n",
       "      <td>4 days ago</td>\n",
       "    </tr>\n",
       "    <tr>\n",
       "      <th>1</th>\n",
       "      <td>storage</td>\n",
       "      <td>Create _final file &amp; Update .gitignore</td>\n",
       "      <td>4 days ago</td>\n",
       "    </tr>\n",
       "    <tr>\n",
       "      <th>2</th>\n",
       "      <td>.gitignore</td>\n",
       "      <td>Create _final file &amp; Update .gitignore</td>\n",
       "      <td>4 days ago</td>\n",
       "    </tr>\n",
       "    <tr>\n",
       "      <th>3</th>\n",
       "      <td>Day27_01_tag_object_final.ipynb</td>\n",
       "      <td>Rename files for sorting</td>\n",
       "      <td>3 hours ago</td>\n",
       "    </tr>\n",
       "    <tr>\n",
       "      <th>4</th>\n",
       "      <td>Day27_02_news_scraping_final.ipynb</td>\n",
       "      <td>Rename files for sorting</td>\n",
       "      <td>3 hours ago</td>\n",
       "    </tr>\n",
       "  </tbody>\n",
       "</table>\n",
       "</div>"
      ],
      "text/plain": [
       "                                 Name                                 Message  \\\n",
       "0                               files  Create _final file & Update .gitignore   \n",
       "1                             storage  Create _final file & Update .gitignore   \n",
       "2                          .gitignore  Create _final file & Update .gitignore   \n",
       "3     Day27_01_tag_object_final.ipynb                Rename files for sorting   \n",
       "4  Day27_02_news_scraping_final.ipynb                Rename files for sorting   \n",
       "\n",
       "          Date  \n",
       "0   4 days ago  \n",
       "1   4 days ago  \n",
       "2   4 days ago  \n",
       "3  3 hours ago  \n",
       "4  3 hours ago  "
      ]
     },
     "execution_count": 32,
     "metadata": {},
     "output_type": "execute_result"
    }
   ],
   "source": [
    "# Excel에서 dataframe 불러오기\n",
    "pd.read_excel('./storage/github.xlsx', header=0).head()"
   ]
  },
  {
   "cell_type": "markdown",
   "metadata": {},
   "source": [
    "---\n",
    "# Incruit Website Scraping\n",
    "incruit.com 페이지에서 데이터 분석가 검색하여서 채용정보 스크래핑하기"
   ]
  },
  {
   "cell_type": "code",
   "execution_count": 35,
   "metadata": {},
   "outputs": [],
   "source": [
    "browser = webdriver.Chrome()\n",
    "browser.get('https://www.incruit.com')"
   ]
  },
  {
   "cell_type": "code",
   "execution_count": 49,
   "metadata": {},
   "outputs": [],
   "source": [
    "# 검색창에 데이터 분석 입력 \n",
    "from selenium.webdriver.common.keys import Keys\n",
    "elmt = browser.find_element_by_name('kw')\n",
    "elmt.send_keys('데이터 분석가')"
   ]
  },
  {
   "cell_type": "markdown",
   "metadata": {},
   "source": [
    "아래 사용되는 Keys의 값을 확인하고 싶으면: https://www.selenium.dev/selenium/docs/api/py/webdriver/selenium.webdriver.common.keys.html "
   ]
  },
  {
   "cell_type": "code",
   "execution_count": 50,
   "metadata": {},
   "outputs": [],
   "source": [
    "# Enter 쳐서 창 넘어가기\n",
    "from selenium.webdriver.common.keys import Keys\n",
    "elmt.send_keys('\\ue007')            # Keys.Enter = '\\ue007' 어느 것을 입력해도 된다"
   ]
  },
  {
   "cell_type": "code",
   "execution_count": 53,
   "metadata": {},
   "outputs": [],
   "source": [
    "# '채용' 메뉴 클릭\n",
    "browser.find_element_by_link_text('채용').click()"
   ]
  },
  {
   "cell_type": "markdown",
   "metadata": {},
   "source": [
    "이후 크롤링 방법은 Selenium만 이용해서 해본다."
   ]
  },
  {
   "cell_type": "code",
   "execution_count": 134,
   "metadata": {},
   "outputs": [],
   "source": [
    "# Pagenation으로 3페이지까지 가져오기\n",
    "# Explicit Wait 사용하기 위해서 모듈 import\n",
    "from selenium.webdriver.common.by import By\n",
    "from selenium.webdriver.support.ui import WebDriverWait\n",
    "from selenium.webdriver.support import expected_conditions as EC\n",
    "# WebDriverWait(browser, 10).until(EC.presence_of_element_located((By.CSS_SELECTOR, 'li > h3 > a')))\n",
    "\n",
    "incruit = []\n",
    "\n",
    "for i in range(1, 4):\n",
    "    if i != 1:                # 1페이지는 클릭할 필요 없음\n",
    "        browser.find_element_by_link_text(str(i)).click()\n",
    "    \n",
    "    # 하나의 목록 내용을 모두 가져오는 태그 찾기\n",
    "    tags = browser.find_elements_by_css_selector('ul.litype01 > li')\n",
    "   \n",
    "    # for loop으로 회사명, 채용내용, 정규직여부, 위치, 지원요건, 경력, 연봉 모두 추출\n",
    "    for tag in tags:    \n",
    "        company = tag.find_element_by_css_selector('li > h3').text.replace('관심기업등록', '')  \n",
    "        title = tag.find_element_by_css_selector('span > a').text\n",
    "        txt = tag.find_element_by_css_selector('p.etc > span').text     # 정규직여부~연봉까지 내용은 하나의 text로 묶여있음!\n",
    "        status = txt.split('|')[0].strip()\n",
    "        loc = txt.split('|')[1].strip()\n",
    "        req = txt.split('|')[2].strip()\n",
    "        exp = txt.split('|')[3].strip()\n",
    "        sal = txt.split('|')[4]\n",
    "        incruit.append([company, title, status, loc, req, exp, sal])"
   ]
  },
  {
   "cell_type": "code",
   "execution_count": 135,
   "metadata": {},
   "outputs": [
    {
     "data": {
      "text/plain": [
       "[['(주)국민은행',\n",
       "  'KB국민은행 비정형 데이터 분석가 전문직무직원 채용',\n",
       "  '계약직',\n",
       "  '서울>마포구',\n",
       "  '학력무관',\n",
       "  '경력1년이상',\n",
       "  ' 연봉 협의 후 결정'],\n",
       " ['(주)데이터누리',\n",
       "  'PM/PL & 데이터분석가 & 일반영업 정규직 채용',\n",
       "  '정규직',\n",
       "  '서울>강서구',\n",
       "  '대학(2,3년)졸업',\n",
       "  '경력2년이상',\n",
       "  ' 연봉 회사내규'],\n",
       " ['리디주식회사',\n",
       "  '[리디 주식회사] 콘텐츠 데이터분석가를 모집합니다',\n",
       "  '정규직',\n",
       "  '서울>강남구',\n",
       "  '학력무관',\n",
       "  '경력3~7년',\n",
       "  ' 연봉 협의 후 결정'],\n",
       " ['어니컴(주)',\n",
       "  '[어니컴(주)] 데이터 분석가 신입/경력 모집',\n",
       "  '정규직',\n",
       "  '서울>용산구',\n",
       "  '대학교(4년)졸업이상',\n",
       "  '신입/경력(연차무관)',\n",
       "  ' 연봉 회사내규']]"
      ]
     },
     "execution_count": 135,
     "metadata": {},
     "output_type": "execute_result"
    }
   ],
   "source": [
    "incruit[:4]"
   ]
  },
  {
   "cell_type": "code",
   "execution_count": 129,
   "metadata": {},
   "outputs": [
    {
     "data": {
      "text/plain": [
       "'<li><h3><a href=\"https://www.incruit.com/company/1682268209\" target=\"_blank\">환경분석연구원(주)</a><button type=\"button\" class=\"add_company\" f_scrapcompany=\"\" f_comp=\"4DC58DB03D69E3BDD470F0D269B05A77702709758C927E8F77ED1F3E0D08623A\" f_mem=\"3B99353088F33084B709CED6C20917C40275B624F2A533E5456F7485B1EFB383\" f_act=\"CI\">관심기업등록</button></h3><p class=\"detail\"><span class=\"rcrtTitle\"><a href=\"https://job.incruit.com/jobdb_info/jobpost.asp?job=2106080001309&amp;src=gsw*search\" slot-sort=\"19463556-0\" target=\"_blank\">실내공기질 측정팀으로 모집합니다(관련학과 필수)</a></span><span class=\"info\">(~07/08)</span><span class=\"dday\">D-9</span><button type=\"button\" class=\"add_scrap\" f_job=\"2106080001309\" f_act=\"I\" f_type=\"INCJOB\">스크랩</button><button type=\"button\" bl_job=\"2106080001309\" class=\"apply_job\" onclick=\"goCL(this,\\'19044\\',\\'search\\',\\'목록_바로지원_2106080001309\\');\">바로지원</button></p><p class=\"etc\"><span>정규직 | 경기&gt;성남시 중원구 | 대학(2,3년)졸업이상 | 신입/경력(연차무관) | 연봉 3,000~3,500만원</span><span><a href=\"#\" onclick=\"open_win(\\'https://job.incruit.com/jobdb_info/jobstat.asp?job=2106080001309&amp;src=gsw*search\\',\\'jobstat\\',\\'725\\',\\'600\\',\\'\\',\\'\\',\\'no\\');void(0);return false;\"><img src=\"//i.incru.it/ui/static/image/search/free.gif\" alt=\"입사지원통계\"></a></span></p></li>'"
      ]
     },
     "execution_count": 129,
     "metadata": {},
     "output_type": "execute_result"
    }
   ],
   "source": [
    "tags[0].get_attribute('outerHTML')           # tag 구조 확인"
   ]
  },
  {
   "cell_type": "code",
   "execution_count": 130,
   "metadata": {},
   "outputs": [
    {
     "data": {
      "text/html": [
       "<div>\n",
       "<style scoped>\n",
       "    .dataframe tbody tr th:only-of-type {\n",
       "        vertical-align: middle;\n",
       "    }\n",
       "\n",
       "    .dataframe tbody tr th {\n",
       "        vertical-align: top;\n",
       "    }\n",
       "\n",
       "    .dataframe thead th {\n",
       "        text-align: right;\n",
       "    }\n",
       "</style>\n",
       "<table border=\"1\" class=\"dataframe\">\n",
       "  <thead>\n",
       "    <tr style=\"text-align: right;\">\n",
       "      <th></th>\n",
       "      <th>Company</th>\n",
       "      <th>Title</th>\n",
       "      <th>Status</th>\n",
       "      <th>Location</th>\n",
       "      <th>Requirement</th>\n",
       "      <th>Experience</th>\n",
       "      <th>Salary</th>\n",
       "    </tr>\n",
       "  </thead>\n",
       "  <tbody>\n",
       "    <tr>\n",
       "      <th>0</th>\n",
       "      <td>(주)국민은행</td>\n",
       "      <td>KB국민은행 비정형 데이터 분석가 전문직무직원 채용</td>\n",
       "      <td>계약직</td>\n",
       "      <td>서울&gt;마포구</td>\n",
       "      <td>학력무관</td>\n",
       "      <td>경력1년이상</td>\n",
       "      <td>연봉 협의 후 결정</td>\n",
       "    </tr>\n",
       "    <tr>\n",
       "      <th>1</th>\n",
       "      <td>(주)데이터누리</td>\n",
       "      <td>PM/PL &amp; 데이터분석가 &amp; 일반영업 정규직 채용</td>\n",
       "      <td>정규직</td>\n",
       "      <td>서울&gt;강서구</td>\n",
       "      <td>대학(2,3년)졸업</td>\n",
       "      <td>경력2년이상</td>\n",
       "      <td>연봉 회사내규</td>\n",
       "    </tr>\n",
       "    <tr>\n",
       "      <th>2</th>\n",
       "      <td>리디주식회사</td>\n",
       "      <td>[리디 주식회사] 콘텐츠 데이터분석가를 모집합니다</td>\n",
       "      <td>정규직</td>\n",
       "      <td>서울&gt;강남구</td>\n",
       "      <td>학력무관</td>\n",
       "      <td>경력3~7년</td>\n",
       "      <td>연봉 협의 후 결정</td>\n",
       "    </tr>\n",
       "    <tr>\n",
       "      <th>3</th>\n",
       "      <td>어니컴(주)</td>\n",
       "      <td>[어니컴(주)] 데이터 분석가 신입/경력 모집</td>\n",
       "      <td>정규직</td>\n",
       "      <td>서울&gt;용산구</td>\n",
       "      <td>대학교(4년)졸업이상</td>\n",
       "      <td>신입/경력(연차무관)</td>\n",
       "      <td>연봉 회사내규</td>\n",
       "    </tr>\n",
       "    <tr>\n",
       "      <th>4</th>\n",
       "      <td>주식회사 토이스미스</td>\n",
       "      <td>경력직 데이터분석가 채용</td>\n",
       "      <td>정규직</td>\n",
       "      <td>서울&gt;강남구</td>\n",
       "      <td>학력무관</td>\n",
       "      <td>경력2년이상</td>\n",
       "      <td>연봉 협의 후 결정</td>\n",
       "    </tr>\n",
       "  </tbody>\n",
       "</table>\n",
       "</div>"
      ],
      "text/plain": [
       "      Company                         Title Status Location  Requirement  \\\n",
       "0     (주)국민은행  KB국민은행 비정형 데이터 분석가 전문직무직원 채용    계약직   서울>마포구         학력무관   \n",
       "1    (주)데이터누리  PM/PL & 데이터분석가 & 일반영업 정규직 채용    정규직   서울>강서구   대학(2,3년)졸업   \n",
       "2      리디주식회사   [리디 주식회사] 콘텐츠 데이터분석가를 모집합니다    정규직   서울>강남구         학력무관   \n",
       "3      어니컴(주)     [어니컴(주)] 데이터 분석가 신입/경력 모집    정규직   서울>용산구  대학교(4년)졸업이상   \n",
       "4  주식회사 토이스미스                 경력직 데이터분석가 채용    정규직   서울>강남구         학력무관   \n",
       "\n",
       "    Experience       Salary  \n",
       "0       경력1년이상   연봉 협의 후 결정  \n",
       "1       경력2년이상      연봉 회사내규  \n",
       "2       경력3~7년   연봉 협의 후 결정  \n",
       "3  신입/경력(연차무관)      연봉 회사내규  \n",
       "4       경력2년이상   연봉 협의 후 결정  "
      ]
     },
     "execution_count": 130,
     "metadata": {},
     "output_type": "execute_result"
    }
   ],
   "source": [
    "# Dataframe으로 만들기\n",
    "incr = pd.DataFrame(incruit, columns=['Company', 'Title', 'Status', 'Location', 'Requirement', 'Experience', 'Salary'])\n",
    "incr.head()"
   ]
  },
  {
   "cell_type": "code",
   "execution_count": 131,
   "metadata": {},
   "outputs": [
    {
     "name": "stdout",
     "output_type": "stream",
     "text": [
      "Converted to Excel file---------------------------------\n"
     ]
    }
   ],
   "source": [
    "# Excel로 만들기\n",
    "incr.to_excel('./files/incruit.xlsx', header=True, index=False)\n",
    "print('Converted to Excel file---------------------------------')"
   ]
  }
 ],
 "metadata": {
  "kernelspec": {
   "display_name": "Python 3",
   "language": "python",
   "name": "python3"
  },
  "language_info": {
   "codemirror_mode": {
    "name": "ipython",
    "version": 3
   },
   "file_extension": ".py",
   "mimetype": "text/x-python",
   "name": "python",
   "nbconvert_exporter": "python",
   "pygments_lexer": "ipython3",
   "version": "3.8.8"
  }
 },
 "nbformat": 4,
 "nbformat_minor": 4
}
