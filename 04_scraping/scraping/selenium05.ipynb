{
 "cells": [
  {
   "cell_type": "markdown",
   "metadata": {},
   "source": [
    "# 스타벅스 스크래핑"
   ]
  },
  {
   "cell_type": "code",
   "execution_count": 12,
   "metadata": {},
   "outputs": [],
   "source": [
    "from selenium import webdriver\n",
    "from bs4 import BeautifulSoup as BS\n",
    "import pandas as pd"
   ]
  },
  {
   "cell_type": "code",
   "execution_count": 13,
   "metadata": {},
   "outputs": [],
   "source": [
    "# webdriver로 browser 준비\n",
    "browser = webdriver.Chrome()\n",
    "browser.get('https://www.starbucks.co.kr/store/store_map.do?disp=locale')"
   ]
  },
  {
   "cell_type": "markdown",
   "metadata": {},
   "source": [
    "### CSS selector로 위치를 찾아서 클릭하기\n",
    " browser에서 모든 정보가 로딩된 뒤에 click해야 제대로 작동하기 때문에 sleep을 설정하는 것이 좋다. 그러나 Jupyter notebook에서는 cell이 하나씩 순차적으로 실행되니까 크게 상관이 없긴 하다. <br>\n",
    " 또는 전체를 run하는 경우, 너무 빨리 지나가버리기 때문에 sleep을 설정하면 진행을 천천히 확인할 수 있다."
   ]
  },
  {
   "cell_type": "code",
   "execution_count": 14,
   "metadata": {},
   "outputs": [],
   "source": [
    "import time\n",
    "time.sleep(10)\n",
    "\n",
    "browser.find_element_by_css_selector('ul.sido_arae_box > li > a[data-sidocd=\"01\"]').click()    # '서울' 클릭"
   ]
  },
  {
   "cell_type": "code",
   "execution_count": 15,
   "metadata": {},
   "outputs": [],
   "source": [
    "time.sleep(10)\n",
    "browser.find_element_by_css_selector('ul.gugun_arae_box > li > a[href*=\"0\"][data-guguncd=\"\"]').click()   # '전체' 클릭"
   ]
  },
  {
   "cell_type": "markdown",
   "metadata": {},
   "source": [
    "위 CSS selector 중 `[href*=\"0\"]` 부분은 selector를 특정하는데 도움이 되지 않아서 필요 없음. 단지 tag attribute를 여러개 연이어 사용할 수 있다는 것을 보여주기 위해서 추가함"
   ]
  },
  {
   "cell_type": "markdown",
   "metadata": {},
   "source": [
    "### BeautifulSoup으로 매장 리스트를 읽어오기"
   ]
  },
  {
   "cell_type": "code",
   "execution_count": 16,
   "metadata": {},
   "outputs": [],
   "source": [
    "page = browser.page_source            # 현재 webdriver에 열려있는 페이지의 내용을 불러옴\n",
    "soup = BS(page, 'html.parser')"
   ]
  },
  {
   "cell_type": "code",
   "execution_count": 18,
   "metadata": {},
   "outputs": [
    {
     "data": {
      "text/plain": [
       "(554,\n",
       " <li class=\"quickResultLstCon\" data-code=\"3762\" data-hlytag=\"null\" data-index=\"0\" data-lat=\"37.501087\" data-long=\"127.043069\" data-name=\"역삼아레나빌딩\" data-storecd=\"1509\" style=\"background:#fff\"> <strong data-my_siren_order_store_yn=\"N\" data-name=\"역삼아레나빌딩\" data-store=\"1509\" data-yn=\"N\">역삼아레나빌딩  </strong> <p class=\"result_details\">서울특별시 강남구 언주로 425 (역삼동)<br/>1522-3232</p> <i class=\"pin_general\">리저브 매장 2번</i></li>)"
      ]
     },
     "execution_count": 18,
     "metadata": {},
     "output_type": "execute_result"
    }
   ],
   "source": [
    "tags = soup.select('li.quickResultLstCon')\n",
    "len(tags), tags[0]                        # 총 554개 매장"
   ]
  },
  {
   "cell_type": "code",
   "execution_count": 19,
   "metadata": {},
   "outputs": [
    {
     "data": {
      "text/plain": [
       "[['역삼아레나빌딩',\n",
       "  '서울특별시 강남구 언주로 425 (역삼동)1522-3232',\n",
       "  '37.501087',\n",
       "  '127.043069',\n",
       "  '리저브 매장 2번'],\n",
       " ['논현역사거리',\n",
       "  '서울특별시 강남구 강남대로 538 (논현동)1522-3232',\n",
       "  '37.510178',\n",
       "  '127.022223',\n",
       "  '리저브 매장 2번'],\n",
       " ['신사역성일빌딩',\n",
       "  '서울특별시 강남구 강남대로 584 (논현동)1522-3232',\n",
       "  '37.514132',\n",
       "  '127.020563',\n",
       "  '리저브 매장 2번'],\n",
       " ['국기원사거리',\n",
       "  '서울특별시 강남구 테헤란로 125 (역삼동)1522-3232',\n",
       "  '37.499517',\n",
       "  '127.031495',\n",
       "  '리저브 매장 2번'],\n",
       " ['스탈릿대치R',\n",
       "  '서울특별시 강남구 남부순환로 2947 (대치동)1522-3232',\n",
       "  '37.494668',\n",
       "  '127.062583',\n",
       "  '리저브 매장 2번']]"
      ]
     },
     "execution_count": 19,
     "metadata": {},
     "output_type": "execute_result"
    }
   ],
   "source": [
    "# 매장이름, 주소, 위도, 경도, 매장타입을 스크래핑\n",
    "starbucks = []\n",
    "\n",
    "for tag in tags:\n",
    "    name = tag['data-name']\n",
    "    add = tag.select_one('p').text\n",
    "    lat = tag['data-lat']\n",
    "    long = tag['data-long']\n",
    "    store = tag.select_one('i').text\n",
    "    starbucks.append([name, add, lat, long, store])\n",
    "\n",
    "starbucks[:5]"
   ]
  },
  {
   "cell_type": "markdown",
   "metadata": {},
   "source": [
    "### DataFrame으로 만들기"
   ]
  },
  {
   "cell_type": "code",
   "execution_count": 20,
   "metadata": {},
   "outputs": [
    {
     "data": {
      "text/html": [
       "<div>\n",
       "<style scoped>\n",
       "    .dataframe tbody tr th:only-of-type {\n",
       "        vertical-align: middle;\n",
       "    }\n",
       "\n",
       "    .dataframe tbody tr th {\n",
       "        vertical-align: top;\n",
       "    }\n",
       "\n",
       "    .dataframe thead th {\n",
       "        text-align: right;\n",
       "    }\n",
       "</style>\n",
       "<table border=\"1\" class=\"dataframe\">\n",
       "  <thead>\n",
       "    <tr style=\"text-align: right;\">\n",
       "      <th></th>\n",
       "      <th>Store</th>\n",
       "      <th>Address</th>\n",
       "      <th>Latitude</th>\n",
       "      <th>Longitude</th>\n",
       "      <th>Type</th>\n",
       "    </tr>\n",
       "  </thead>\n",
       "  <tbody>\n",
       "    <tr>\n",
       "      <th>0</th>\n",
       "      <td>역삼아레나빌딩</td>\n",
       "      <td>서울특별시 강남구 언주로 425 (역삼동)1522-3232</td>\n",
       "      <td>37.501087</td>\n",
       "      <td>127.043069</td>\n",
       "      <td>리저브 매장 2번</td>\n",
       "    </tr>\n",
       "    <tr>\n",
       "      <th>1</th>\n",
       "      <td>논현역사거리</td>\n",
       "      <td>서울특별시 강남구 강남대로 538 (논현동)1522-3232</td>\n",
       "      <td>37.510178</td>\n",
       "      <td>127.022223</td>\n",
       "      <td>리저브 매장 2번</td>\n",
       "    </tr>\n",
       "    <tr>\n",
       "      <th>2</th>\n",
       "      <td>신사역성일빌딩</td>\n",
       "      <td>서울특별시 강남구 강남대로 584 (논현동)1522-3232</td>\n",
       "      <td>37.514132</td>\n",
       "      <td>127.020563</td>\n",
       "      <td>리저브 매장 2번</td>\n",
       "    </tr>\n",
       "    <tr>\n",
       "      <th>3</th>\n",
       "      <td>국기원사거리</td>\n",
       "      <td>서울특별시 강남구 테헤란로 125 (역삼동)1522-3232</td>\n",
       "      <td>37.499517</td>\n",
       "      <td>127.031495</td>\n",
       "      <td>리저브 매장 2번</td>\n",
       "    </tr>\n",
       "    <tr>\n",
       "      <th>4</th>\n",
       "      <td>스탈릿대치R</td>\n",
       "      <td>서울특별시 강남구 남부순환로 2947 (대치동)1522-3232</td>\n",
       "      <td>37.494668</td>\n",
       "      <td>127.062583</td>\n",
       "      <td>리저브 매장 2번</td>\n",
       "    </tr>\n",
       "  </tbody>\n",
       "</table>\n",
       "</div>"
      ],
      "text/plain": [
       "     Store                              Address   Latitude   Longitude  \\\n",
       "0  역삼아레나빌딩     서울특별시 강남구 언주로 425 (역삼동)1522-3232  37.501087  127.043069   \n",
       "1   논현역사거리    서울특별시 강남구 강남대로 538 (논현동)1522-3232  37.510178  127.022223   \n",
       "2  신사역성일빌딩    서울특별시 강남구 강남대로 584 (논현동)1522-3232  37.514132  127.020563   \n",
       "3   국기원사거리    서울특별시 강남구 테헤란로 125 (역삼동)1522-3232  37.499517  127.031495   \n",
       "4   스탈릿대치R  서울특별시 강남구 남부순환로 2947 (대치동)1522-3232  37.494668  127.062583   \n",
       "\n",
       "        Type  \n",
       "0  리저브 매장 2번  \n",
       "1  리저브 매장 2번  \n",
       "2  리저브 매장 2번  \n",
       "3  리저브 매장 2번  \n",
       "4  리저브 매장 2번  "
      ]
     },
     "execution_count": 20,
     "metadata": {},
     "output_type": "execute_result"
    }
   ],
   "source": [
    "pd.DataFrame(starbucks, columns=['Store', 'Address', 'Latitude', 'Longitude', 'Type']).head()"
   ]
  },
  {
   "cell_type": "markdown",
   "metadata": {},
   "source": [
    "---\n",
    "### 번외) WebElement object의 html source 확인하는 법\n",
    "Selenium으로 element 찾기를 마친 뒤 BeautifulSoup으로 parsing 할 수도 있다!"
   ]
  },
  {
   "cell_type": "code",
   "execution_count": 21,
   "metadata": {},
   "outputs": [
    {
     "data": {
      "text/plain": [
       "('<li class=\"quickResultLstCon\" style=\"background:#fff\" data-lat=\"37.501087\" data-long=\"127.043069\" data-index=\"0\" data-name=\"역삼아레나빌딩\" data-code=\"3762\" data-storecd=\"1509\" data-hlytag=\"null\">\\t<strong data-store=\"1509\" data-yn=\"N\" data-name=\"역삼아레나빌딩\" data-my_siren_order_store_yn=\"N\">역삼아레나빌딩  </strong>\\t<p class=\"result_details\">서울특별시 강남구 언주로 425 (역삼동)<br>1522-3232</p>\\t<i class=\"pin_general\">리저브 매장 2번</i></li>',\n",
       " str)"
      ]
     },
     "execution_count": 21,
     "metadata": {},
     "output_type": "execute_result"
    }
   ],
   "source": [
    "# outerHTML: 지정한 태그(li) 포함해서 가져옴\n",
    "# innerHTML: 지정한 태그 제외 안쪽만 가져옴\n",
    "elmt = browser.find_element_by_css_selector('li.quickResultLstCon').get_attribute('outerHTML')\n",
    "elmt, type(elmt)                  # str"
   ]
  },
  {
   "cell_type": "code",
   "execution_count": 22,
   "metadata": {},
   "outputs": [
    {
     "name": "stdout",
     "output_type": "stream",
     "text": [
      "<li class=\"quickResultLstCon\" data-code=\"3762\" data-hlytag=\"null\" data-index=\"0\" data-lat=\"37.501087\" data-long=\"127.043069\" data-name=\"역삼아레나빌딩\" data-storecd=\"1509\" style=\"background:#fff\">\n",
      " <strong data-my_siren_order_store_yn=\"N\" data-name=\"역삼아레나빌딩\" data-store=\"1509\" data-yn=\"N\">\n",
      "  역삼아레나빌딩\n",
      " </strong>\n",
      " <p class=\"result_details\">\n",
      "  서울특별시 강남구 언주로 425 (역삼동)\n",
      "  <br/>\n",
      "  1522-3232\n",
      " </p>\n",
      " <i class=\"pin_general\">\n",
      "  리저브 매장 2번\n",
      " </i>\n",
      "</li>\n"
     ]
    }
   ],
   "source": [
    "print(BS(elmt, 'html.parser').prettify())"
   ]
  },
  {
   "cell_type": "markdown",
   "metadata": {},
   "source": [
    "### Selenium만 사용해서 Starbucks 매장정보 가져오기"
   ]
  },
  {
   "cell_type": "code",
   "execution_count": 23,
   "metadata": {},
   "outputs": [
    {
     "data": {
      "text/plain": [
       "'<li class=\"quickResultLstCon\" style=\"background:#fff\" data-lat=\"37.501087\" data-long=\"127.043069\" data-index=\"0\" data-name=\"역삼아레나빌딩\" data-code=\"3762\" data-storecd=\"1509\" data-hlytag=\"null\">\\t<strong data-store=\"1509\" data-yn=\"N\" data-name=\"역삼아레나빌딩\" data-my_siren_order_store_yn=\"N\">역삼아레나빌딩  </strong>\\t<p class=\"result_details\">서울특별시 강남구 언주로 425 (역삼동)<br>1522-3232</p>\\t<i class=\"pin_general\">리저브 매장 2번</i></li>'"
      ]
     },
     "execution_count": 23,
     "metadata": {},
     "output_type": "execute_result"
    }
   ],
   "source": [
    "# 매장정보 모두 가져오기\n",
    "tags = browser.find_elements_by_css_selector('li.quickResultLstCon')\n",
    "tags[0].get_attribute('outerHTML')          # 첫번째 WebElement의 html source 확인\n",
    "# tags[0].find_element_by_css_selector('p').text   # html은 제대로 가져오는데 왜 text는 안 불러"
   ]
  },
  {
   "cell_type": "code",
   "execution_count": 24,
   "metadata": {},
   "outputs": [
    {
     "data": {
      "text/plain": [
       "[['역삼아레나빌딩', '', '37.501087', '127.043069', ''],\n",
       " ['논현역사거리', '', '37.510178', '127.022223', ''],\n",
       " ['신사역성일빌딩', '', '37.514132', '127.020563', ''],\n",
       " ['국기원사거리', '', '37.499517', '127.031495', ''],\n",
       " ['스탈릿대치R', '', '37.494668', '127.062583', '']]"
      ]
     },
     "execution_count": 24,
     "metadata": {},
     "output_type": "execute_result"
    }
   ],
   "source": [
    "# 속도가 너무 느리다...\n",
    "stores = []\n",
    "\n",
    "for tag in tags:\n",
    "    name = tag.get_attribute('data-name')        # tag_name, css_selector로는 text가 안 불러와짐\n",
    "    add = tag.find_element_by_xpath('//*[@id=\"mCSB_3_container\"]/ul/li[5]/p').text.replace('\\n', ' ') \n",
    "    lat = tag.get_attribute('data-lat')\n",
    "    long = tag.get_attribute('data-long')\n",
    "    store = tag.find_element_by_xpath('//*[@id=\"mCSB_3_container\"]/ul/li[5]/i').text\n",
    "    stores.append([name, add, lat, long, store])\n",
    "    \n",
    "stores[:5]"
   ]
  },
  {
   "cell_type": "code",
   "execution_count": 25,
   "metadata": {},
   "outputs": [
    {
     "data": {
      "text/html": [
       "<div>\n",
       "<style scoped>\n",
       "    .dataframe tbody tr th:only-of-type {\n",
       "        vertical-align: middle;\n",
       "    }\n",
       "\n",
       "    .dataframe tbody tr th {\n",
       "        vertical-align: top;\n",
       "    }\n",
       "\n",
       "    .dataframe thead th {\n",
       "        text-align: right;\n",
       "    }\n",
       "</style>\n",
       "<table border=\"1\" class=\"dataframe\">\n",
       "  <thead>\n",
       "    <tr style=\"text-align: right;\">\n",
       "      <th></th>\n",
       "      <th>Store</th>\n",
       "      <th>Address</th>\n",
       "      <th>Latitude</th>\n",
       "      <th>Longitude</th>\n",
       "      <th>Type</th>\n",
       "    </tr>\n",
       "  </thead>\n",
       "  <tbody>\n",
       "    <tr>\n",
       "      <th>0</th>\n",
       "      <td>역삼아레나빌딩</td>\n",
       "      <td></td>\n",
       "      <td>37.501087</td>\n",
       "      <td>127.043069</td>\n",
       "      <td></td>\n",
       "    </tr>\n",
       "    <tr>\n",
       "      <th>1</th>\n",
       "      <td>논현역사거리</td>\n",
       "      <td></td>\n",
       "      <td>37.510178</td>\n",
       "      <td>127.022223</td>\n",
       "      <td></td>\n",
       "    </tr>\n",
       "    <tr>\n",
       "      <th>2</th>\n",
       "      <td>신사역성일빌딩</td>\n",
       "      <td></td>\n",
       "      <td>37.514132</td>\n",
       "      <td>127.020563</td>\n",
       "      <td></td>\n",
       "    </tr>\n",
       "    <tr>\n",
       "      <th>3</th>\n",
       "      <td>국기원사거리</td>\n",
       "      <td></td>\n",
       "      <td>37.499517</td>\n",
       "      <td>127.031495</td>\n",
       "      <td></td>\n",
       "    </tr>\n",
       "    <tr>\n",
       "      <th>4</th>\n",
       "      <td>스탈릿대치R</td>\n",
       "      <td></td>\n",
       "      <td>37.494668</td>\n",
       "      <td>127.062583</td>\n",
       "      <td></td>\n",
       "    </tr>\n",
       "  </tbody>\n",
       "</table>\n",
       "</div>"
      ],
      "text/plain": [
       "     Store Address   Latitude   Longitude Type\n",
       "0  역삼아레나빌딩          37.501087  127.043069     \n",
       "1   논현역사거리          37.510178  127.022223     \n",
       "2  신사역성일빌딩          37.514132  127.020563     \n",
       "3   국기원사거리          37.499517  127.031495     \n",
       "4   스탈릿대치R          37.494668  127.062583     "
      ]
     },
     "execution_count": 25,
     "metadata": {},
     "output_type": "execute_result"
    }
   ],
   "source": [
    "# Dataframe으로 만들기\n",
    "pd.DataFrame(stores, columns=['Store', 'Address', 'Latitude', 'Longitude', 'Type']).head()"
   ]
  },
  {
   "cell_type": "code",
   "execution_count": null,
   "metadata": {},
   "outputs": [],
   "source": []
  }
 ],
 "metadata": {
  "kernelspec": {
   "display_name": "Python 3",
   "language": "python",
   "name": "python3"
  },
  "language_info": {
   "codemirror_mode": {
    "name": "ipython",
    "version": 3
   },
   "file_extension": ".py",
   "mimetype": "text/x-python",
   "name": "python",
   "nbconvert_exporter": "python",
   "pygments_lexer": "ipython3",
   "version": "3.8.8"
  }
 },
 "nbformat": 4,
 "nbformat_minor": 4
}
